{
 "cells": [
  {
   "cell_type": "code",
   "execution_count": 4,
   "metadata": {},
   "outputs": [],
   "source": [
    "import pandas as pd\n",
    "import numpy as np\n",
    "import matplotlib.pyplot as plt\n",
    "%matplotlib inline"
   ]
  },
  {
   "cell_type": "code",
   "execution_count": 5,
   "metadata": {},
   "outputs": [],
   "source": [
    "df=pd.read_csv(\"dataset/train.csv\")"
   ]
  },
  {
   "cell_type": "code",
   "execution_count": 6,
   "metadata": {},
   "outputs": [
    {
     "data": {
      "text/html": [
       "<div>\n",
       "<style scoped>\n",
       "    .dataframe tbody tr th:only-of-type {\n",
       "        vertical-align: middle;\n",
       "    }\n",
       "\n",
       "    .dataframe tbody tr th {\n",
       "        vertical-align: top;\n",
       "    }\n",
       "\n",
       "    .dataframe thead th {\n",
       "        text-align: right;\n",
       "    }\n",
       "</style>\n",
       "<table border=\"1\" class=\"dataframe\">\n",
       "  <thead>\n",
       "    <tr style=\"text-align: right;\">\n",
       "      <th></th>\n",
       "      <th>customer_id</th>\n",
       "      <th>Name</th>\n",
       "      <th>age</th>\n",
       "      <th>gender</th>\n",
       "      <th>security_no</th>\n",
       "      <th>region_category</th>\n",
       "      <th>membership_category</th>\n",
       "      <th>joining_date</th>\n",
       "      <th>joined_through_referral</th>\n",
       "      <th>referral_id</th>\n",
       "      <th>...</th>\n",
       "      <th>avg_time_spent</th>\n",
       "      <th>avg_transaction_value</th>\n",
       "      <th>avg_frequency_login_days</th>\n",
       "      <th>points_in_wallet</th>\n",
       "      <th>used_special_discount</th>\n",
       "      <th>offer_application_preference</th>\n",
       "      <th>past_complaint</th>\n",
       "      <th>complaint_status</th>\n",
       "      <th>feedback</th>\n",
       "      <th>churn_risk_score</th>\n",
       "    </tr>\n",
       "  </thead>\n",
       "  <tbody>\n",
       "    <tr>\n",
       "      <th>0</th>\n",
       "      <td>fffe4300490044003600300030003800</td>\n",
       "      <td>Pattie Morrisey</td>\n",
       "      <td>18</td>\n",
       "      <td>F</td>\n",
       "      <td>XW0DQ7H</td>\n",
       "      <td>Village</td>\n",
       "      <td>Platinum Membership</td>\n",
       "      <td>2017-08-17</td>\n",
       "      <td>No</td>\n",
       "      <td>xxxxxxxx</td>\n",
       "      <td>...</td>\n",
       "      <td>300.63</td>\n",
       "      <td>53005.25</td>\n",
       "      <td>17.0</td>\n",
       "      <td>781.75</td>\n",
       "      <td>Yes</td>\n",
       "      <td>Yes</td>\n",
       "      <td>No</td>\n",
       "      <td>Not Applicable</td>\n",
       "      <td>Products always in Stock</td>\n",
       "      <td>2</td>\n",
       "    </tr>\n",
       "    <tr>\n",
       "      <th>1</th>\n",
       "      <td>fffe43004900440032003100300035003700</td>\n",
       "      <td>Traci Peery</td>\n",
       "      <td>32</td>\n",
       "      <td>F</td>\n",
       "      <td>5K0N3X1</td>\n",
       "      <td>City</td>\n",
       "      <td>Premium Membership</td>\n",
       "      <td>2017-08-28</td>\n",
       "      <td>?</td>\n",
       "      <td>CID21329</td>\n",
       "      <td>...</td>\n",
       "      <td>306.34</td>\n",
       "      <td>12838.38</td>\n",
       "      <td>10.0</td>\n",
       "      <td>NaN</td>\n",
       "      <td>Yes</td>\n",
       "      <td>No</td>\n",
       "      <td>Yes</td>\n",
       "      <td>Solved</td>\n",
       "      <td>Quality Customer Care</td>\n",
       "      <td>1</td>\n",
       "    </tr>\n",
       "    <tr>\n",
       "      <th>2</th>\n",
       "      <td>fffe4300490044003100390032003600</td>\n",
       "      <td>Merideth Mcmeen</td>\n",
       "      <td>44</td>\n",
       "      <td>F</td>\n",
       "      <td>1F2TCL3</td>\n",
       "      <td>Town</td>\n",
       "      <td>No Membership</td>\n",
       "      <td>2016-11-11</td>\n",
       "      <td>Yes</td>\n",
       "      <td>CID12313</td>\n",
       "      <td>...</td>\n",
       "      <td>516.16</td>\n",
       "      <td>21027.00</td>\n",
       "      <td>22.0</td>\n",
       "      <td>500.69</td>\n",
       "      <td>No</td>\n",
       "      <td>Yes</td>\n",
       "      <td>Yes</td>\n",
       "      <td>Solved in Follow-up</td>\n",
       "      <td>Poor Website</td>\n",
       "      <td>5</td>\n",
       "    </tr>\n",
       "    <tr>\n",
       "      <th>3</th>\n",
       "      <td>fffe43004900440036003000330031003600</td>\n",
       "      <td>Eufemia Cardwell</td>\n",
       "      <td>37</td>\n",
       "      <td>M</td>\n",
       "      <td>VJGJ33N</td>\n",
       "      <td>City</td>\n",
       "      <td>No Membership</td>\n",
       "      <td>2016-10-29</td>\n",
       "      <td>Yes</td>\n",
       "      <td>CID3793</td>\n",
       "      <td>...</td>\n",
       "      <td>53.27</td>\n",
       "      <td>25239.56</td>\n",
       "      <td>6.0</td>\n",
       "      <td>567.66</td>\n",
       "      <td>No</td>\n",
       "      <td>Yes</td>\n",
       "      <td>Yes</td>\n",
       "      <td>Unsolved</td>\n",
       "      <td>Poor Website</td>\n",
       "      <td>5</td>\n",
       "    </tr>\n",
       "    <tr>\n",
       "      <th>4</th>\n",
       "      <td>fffe43004900440031003900350030003600</td>\n",
       "      <td>Meghan Kosak</td>\n",
       "      <td>31</td>\n",
       "      <td>F</td>\n",
       "      <td>SVZXCWB</td>\n",
       "      <td>City</td>\n",
       "      <td>No Membership</td>\n",
       "      <td>2017-09-12</td>\n",
       "      <td>No</td>\n",
       "      <td>xxxxxxxx</td>\n",
       "      <td>...</td>\n",
       "      <td>113.13</td>\n",
       "      <td>24483.66</td>\n",
       "      <td>16.0</td>\n",
       "      <td>663.06</td>\n",
       "      <td>No</td>\n",
       "      <td>Yes</td>\n",
       "      <td>Yes</td>\n",
       "      <td>Solved</td>\n",
       "      <td>Poor Website</td>\n",
       "      <td>5</td>\n",
       "    </tr>\n",
       "  </tbody>\n",
       "</table>\n",
       "<p>5 rows × 25 columns</p>\n",
       "</div>"
      ],
      "text/plain": [
       "                            customer_id              Name  age gender  \\\n",
       "0      fffe4300490044003600300030003800   Pattie Morrisey   18      F   \n",
       "1  fffe43004900440032003100300035003700       Traci Peery   32      F   \n",
       "2      fffe4300490044003100390032003600   Merideth Mcmeen   44      F   \n",
       "3  fffe43004900440036003000330031003600  Eufemia Cardwell   37      M   \n",
       "4  fffe43004900440031003900350030003600      Meghan Kosak   31      F   \n",
       "\n",
       "  security_no region_category  membership_category joining_date  \\\n",
       "0     XW0DQ7H         Village  Platinum Membership   2017-08-17   \n",
       "1     5K0N3X1            City   Premium Membership   2017-08-28   \n",
       "2     1F2TCL3            Town        No Membership   2016-11-11   \n",
       "3     VJGJ33N            City        No Membership   2016-10-29   \n",
       "4     SVZXCWB            City        No Membership   2017-09-12   \n",
       "\n",
       "  joined_through_referral referral_id  ... avg_time_spent  \\\n",
       "0                      No    xxxxxxxx  ...         300.63   \n",
       "1                       ?    CID21329  ...         306.34   \n",
       "2                     Yes    CID12313  ...         516.16   \n",
       "3                     Yes     CID3793  ...          53.27   \n",
       "4                      No    xxxxxxxx  ...         113.13   \n",
       "\n",
       "  avg_transaction_value avg_frequency_login_days points_in_wallet  \\\n",
       "0              53005.25                     17.0           781.75   \n",
       "1              12838.38                     10.0              NaN   \n",
       "2              21027.00                     22.0           500.69   \n",
       "3              25239.56                      6.0           567.66   \n",
       "4              24483.66                     16.0           663.06   \n",
       "\n",
       "   used_special_discount  offer_application_preference  past_complaint  \\\n",
       "0                    Yes                           Yes              No   \n",
       "1                    Yes                            No             Yes   \n",
       "2                     No                           Yes             Yes   \n",
       "3                     No                           Yes             Yes   \n",
       "4                     No                           Yes             Yes   \n",
       "\n",
       "      complaint_status                  feedback churn_risk_score  \n",
       "0       Not Applicable  Products always in Stock                2  \n",
       "1               Solved     Quality Customer Care                1  \n",
       "2  Solved in Follow-up              Poor Website                5  \n",
       "3             Unsolved              Poor Website                5  \n",
       "4               Solved              Poor Website                5  \n",
       "\n",
       "[5 rows x 25 columns]"
      ]
     },
     "execution_count": 6,
     "metadata": {},
     "output_type": "execute_result"
    }
   ],
   "source": [
    "df.head()"
   ]
  },
  {
   "cell_type": "code",
   "execution_count": 7,
   "metadata": {},
   "outputs": [
    {
     "data": {
      "text/plain": [
       "(36992, 25)"
      ]
     },
     "execution_count": 7,
     "metadata": {},
     "output_type": "execute_result"
    }
   ],
   "source": [
    "df.shape"
   ]
  },
  {
   "cell_type": "code",
   "execution_count": 8,
   "metadata": {},
   "outputs": [
    {
     "data": {
      "text/html": [
       "<div>\n",
       "<style scoped>\n",
       "    .dataframe tbody tr th:only-of-type {\n",
       "        vertical-align: middle;\n",
       "    }\n",
       "\n",
       "    .dataframe tbody tr th {\n",
       "        vertical-align: top;\n",
       "    }\n",
       "\n",
       "    .dataframe thead th {\n",
       "        text-align: right;\n",
       "    }\n",
       "</style>\n",
       "<table border=\"1\" class=\"dataframe\">\n",
       "  <thead>\n",
       "    <tr style=\"text-align: right;\">\n",
       "      <th></th>\n",
       "      <th>age</th>\n",
       "      <th>days_since_last_login</th>\n",
       "      <th>avg_time_spent</th>\n",
       "      <th>avg_transaction_value</th>\n",
       "      <th>points_in_wallet</th>\n",
       "      <th>churn_risk_score</th>\n",
       "    </tr>\n",
       "  </thead>\n",
       "  <tbody>\n",
       "    <tr>\n",
       "      <th>count</th>\n",
       "      <td>36992.000000</td>\n",
       "      <td>36992.000000</td>\n",
       "      <td>36992.000000</td>\n",
       "      <td>36992.000000</td>\n",
       "      <td>33549.000000</td>\n",
       "      <td>36992.000000</td>\n",
       "    </tr>\n",
       "    <tr>\n",
       "      <th>mean</th>\n",
       "      <td>37.118161</td>\n",
       "      <td>-41.915576</td>\n",
       "      <td>243.472334</td>\n",
       "      <td>29271.194003</td>\n",
       "      <td>686.882199</td>\n",
       "      <td>3.463397</td>\n",
       "    </tr>\n",
       "    <tr>\n",
       "      <th>std</th>\n",
       "      <td>15.867412</td>\n",
       "      <td>228.819900</td>\n",
       "      <td>398.289149</td>\n",
       "      <td>19444.806226</td>\n",
       "      <td>194.063624</td>\n",
       "      <td>1.409661</td>\n",
       "    </tr>\n",
       "    <tr>\n",
       "      <th>min</th>\n",
       "      <td>10.000000</td>\n",
       "      <td>-999.000000</td>\n",
       "      <td>-2814.109110</td>\n",
       "      <td>800.460000</td>\n",
       "      <td>-760.661236</td>\n",
       "      <td>-1.000000</td>\n",
       "    </tr>\n",
       "    <tr>\n",
       "      <th>25%</th>\n",
       "      <td>23.000000</td>\n",
       "      <td>8.000000</td>\n",
       "      <td>60.102500</td>\n",
       "      <td>14177.540000</td>\n",
       "      <td>616.150000</td>\n",
       "      <td>3.000000</td>\n",
       "    </tr>\n",
       "    <tr>\n",
       "      <th>50%</th>\n",
       "      <td>37.000000</td>\n",
       "      <td>12.000000</td>\n",
       "      <td>161.765000</td>\n",
       "      <td>27554.485000</td>\n",
       "      <td>697.620000</td>\n",
       "      <td>4.000000</td>\n",
       "    </tr>\n",
       "    <tr>\n",
       "      <th>75%</th>\n",
       "      <td>51.000000</td>\n",
       "      <td>16.000000</td>\n",
       "      <td>356.515000</td>\n",
       "      <td>40855.110000</td>\n",
       "      <td>763.950000</td>\n",
       "      <td>5.000000</td>\n",
       "    </tr>\n",
       "    <tr>\n",
       "      <th>max</th>\n",
       "      <td>64.000000</td>\n",
       "      <td>26.000000</td>\n",
       "      <td>3235.578521</td>\n",
       "      <td>99914.050000</td>\n",
       "      <td>2069.069761</td>\n",
       "      <td>5.000000</td>\n",
       "    </tr>\n",
       "  </tbody>\n",
       "</table>\n",
       "</div>"
      ],
      "text/plain": [
       "                age  days_since_last_login  avg_time_spent  \\\n",
       "count  36992.000000           36992.000000    36992.000000   \n",
       "mean      37.118161             -41.915576      243.472334   \n",
       "std       15.867412             228.819900      398.289149   \n",
       "min       10.000000            -999.000000    -2814.109110   \n",
       "25%       23.000000               8.000000       60.102500   \n",
       "50%       37.000000              12.000000      161.765000   \n",
       "75%       51.000000              16.000000      356.515000   \n",
       "max       64.000000              26.000000     3235.578521   \n",
       "\n",
       "       avg_transaction_value  points_in_wallet  churn_risk_score  \n",
       "count           36992.000000      33549.000000      36992.000000  \n",
       "mean            29271.194003        686.882199          3.463397  \n",
       "std             19444.806226        194.063624          1.409661  \n",
       "min               800.460000       -760.661236         -1.000000  \n",
       "25%             14177.540000        616.150000          3.000000  \n",
       "50%             27554.485000        697.620000          4.000000  \n",
       "75%             40855.110000        763.950000          5.000000  \n",
       "max             99914.050000       2069.069761          5.000000  "
      ]
     },
     "execution_count": 8,
     "metadata": {},
     "output_type": "execute_result"
    }
   ],
   "source": [
    "df.describe()"
   ]
  },
  {
   "cell_type": "code",
   "execution_count": 9,
   "metadata": {},
   "outputs": [
    {
     "data": {
      "text/plain": [
       "customer_id                        0\n",
       "Name                               0\n",
       "age                                0\n",
       "gender                             0\n",
       "security_no                        0\n",
       "region_category                 5428\n",
       "membership_category                0\n",
       "joining_date                       0\n",
       "joined_through_referral            0\n",
       "referral_id                        0\n",
       "preferred_offer_types            288\n",
       "medium_of_operation                0\n",
       "internet_option                    0\n",
       "last_visit_time                    0\n",
       "days_since_last_login              0\n",
       "avg_time_spent                     0\n",
       "avg_transaction_value              0\n",
       "avg_frequency_login_days           0\n",
       "points_in_wallet                3443\n",
       "used_special_discount              0\n",
       "offer_application_preference       0\n",
       "past_complaint                     0\n",
       "complaint_status                   0\n",
       "feedback                           0\n",
       "churn_risk_score                   0\n",
       "dtype: int64"
      ]
     },
     "execution_count": 9,
     "metadata": {},
     "output_type": "execute_result"
    }
   ],
   "source": [
    "df.isnull().sum()"
   ]
  },
  {
   "cell_type": "code",
   "execution_count": 10,
   "metadata": {},
   "outputs": [
    {
     "data": {
      "text/plain": [
       "Index(['customer_id', 'Name', 'age', 'gender', 'security_no',\n",
       "       'region_category', 'membership_category', 'joining_date',\n",
       "       'joined_through_referral', 'referral_id', 'preferred_offer_types',\n",
       "       'medium_of_operation', 'internet_option', 'last_visit_time',\n",
       "       'days_since_last_login', 'avg_time_spent', 'avg_transaction_value',\n",
       "       'avg_frequency_login_days', 'points_in_wallet', 'used_special_discount',\n",
       "       'offer_application_preference', 'past_complaint', 'complaint_status',\n",
       "       'feedback', 'churn_risk_score'],\n",
       "      dtype='object')"
      ]
     },
     "execution_count": 10,
     "metadata": {},
     "output_type": "execute_result"
    }
   ],
   "source": [
    "df.columns"
   ]
  },
  {
   "cell_type": "code",
   "execution_count": 11,
   "metadata": {},
   "outputs": [
    {
     "data": {
      "text/plain": [
       "Wi-Fi          12413\n",
       "Mobile_Data    12343\n",
       "Fiber_Optic    12236\n",
       "Name: internet_option, dtype: int64"
      ]
     },
     "execution_count": 11,
     "metadata": {},
     "output_type": "execute_result"
    }
   ],
   "source": [
    "df.internet_option.value_counts()"
   ]
  },
  {
   "cell_type": "code",
   "execution_count": 12,
   "metadata": {},
   "outputs": [],
   "source": [
    "#filling categorical column\n",
    "df['region_category']=df['region_category'].fillna(df['region_category'].mode()[0])\n",
    "df['preferred_offer_types']=df['preferred_offer_types'].fillna(df['preferred_offer_types'].mode()[0])"
   ]
  },
  {
   "cell_type": "code",
   "execution_count": 13,
   "metadata": {},
   "outputs": [],
   "source": [
    "#filling numerical column\n",
    "df['points_in_wallet']=df['points_in_wallet'].fillna(df['points_in_wallet'].mean())"
   ]
  },
  {
   "cell_type": "code",
   "execution_count": 14,
   "metadata": {},
   "outputs": [
    {
     "data": {
      "text/plain": [
       "customer_id                     0\n",
       "Name                            0\n",
       "age                             0\n",
       "gender                          0\n",
       "security_no                     0\n",
       "region_category                 0\n",
       "membership_category             0\n",
       "joining_date                    0\n",
       "joined_through_referral         0\n",
       "referral_id                     0\n",
       "preferred_offer_types           0\n",
       "medium_of_operation             0\n",
       "internet_option                 0\n",
       "last_visit_time                 0\n",
       "days_since_last_login           0\n",
       "avg_time_spent                  0\n",
       "avg_transaction_value           0\n",
       "avg_frequency_login_days        0\n",
       "points_in_wallet                0\n",
       "used_special_discount           0\n",
       "offer_application_preference    0\n",
       "past_complaint                  0\n",
       "complaint_status                0\n",
       "feedback                        0\n",
       "churn_risk_score                0\n",
       "dtype: int64"
      ]
     },
     "execution_count": 14,
     "metadata": {},
     "output_type": "execute_result"
    }
   ],
   "source": [
    "df.isnull().sum()"
   ]
  },
  {
   "cell_type": "code",
   "execution_count": 15,
   "metadata": {},
   "outputs": [
    {
     "name": "stdout",
     "output_type": "stream",
     "text": [
      "Requirement already satisfied: pandas_profiling in c:\\users\\deeks\\anaconda3\\lib\\site-packages (3.0.0)\n",
      "Requirement already satisfied: PyYAML>=5.0.0 in c:\\users\\deeks\\anaconda3\\lib\\site-packages (from pandas_profiling) (5.3.1)\n",
      "Requirement already satisfied: phik>=0.11.1 in c:\\users\\deeks\\anaconda3\\lib\\site-packages (from pandas_profiling) (0.12.0)\n",
      "Requirement already satisfied: joblib in c:\\users\\deeks\\anaconda3\\lib\\site-packages (from pandas_profiling) (0.17.0)\n",
      "Requirement already satisfied: tangled-up-in-unicode==0.1.0 in c:\\users\\deeks\\anaconda3\\lib\\site-packages (from pandas_profiling) (0.1.0)\n",
      "Requirement already satisfied: requests>=2.24.0 in c:\\users\\deeks\\anaconda3\\lib\\site-packages (from pandas_profiling) (2.24.0)\n",
      "Requirement already satisfied: tqdm>=4.48.2 in c:\\users\\deeks\\anaconda3\\lib\\site-packages (from pandas_profiling) (4.50.2)\n",
      "Requirement already satisfied: missingno>=0.4.2 in c:\\users\\deeks\\anaconda3\\lib\\site-packages (from pandas_profiling) (0.5.0)\n",
      "Requirement already satisfied: numpy>=1.16.0 in c:\\users\\deeks\\anaconda3\\lib\\site-packages (from pandas_profiling) (1.19.2)\n",
      "Requirement already satisfied: pydantic>=1.8.1 in c:\\users\\deeks\\anaconda3\\lib\\site-packages (from pandas_profiling) (1.8.2)\n",
      "Requirement already satisfied: htmlmin>=0.1.12 in c:\\users\\deeks\\anaconda3\\lib\\site-packages (from pandas_profiling) (0.1.12)\n",
      "Requirement already satisfied: pandas!=1.0.0,!=1.0.1,!=1.0.2,!=1.1.0,>=0.25.3 in c:\\users\\deeks\\anaconda3\\lib\\site-packages (from pandas_profiling) (1.1.3)\n",
      "Requirement already satisfied: seaborn>=0.10.1 in c:\\users\\deeks\\anaconda3\\lib\\site-packages (from pandas_profiling) (0.11.0)\n",
      "Requirement already satisfied: visions[type_image_path]==0.7.1 in c:\\users\\deeks\\anaconda3\\lib\\site-packages (from pandas_profiling) (0.7.1)\n",
      "Requirement already satisfied: matplotlib>=3.2.0 in c:\\users\\deeks\\anaconda3\\lib\\site-packages (from pandas_profiling) (3.3.2)\n",
      "Requirement already satisfied: jinja2>=2.11.1 in c:\\users\\deeks\\anaconda3\\lib\\site-packages (from pandas_profiling) (2.11.2)\n",
      "Requirement already satisfied: scipy>=1.4.1 in c:\\users\\deeks\\anaconda3\\lib\\site-packages (from pandas_profiling) (1.5.2)\n",
      "Requirement already satisfied: urllib3!=1.25.0,!=1.25.1,<1.26,>=1.21.1 in c:\\users\\deeks\\anaconda3\\lib\\site-packages (from requests>=2.24.0->pandas_profiling) (1.25.11)\n",
      "Requirement already satisfied: certifi>=2017.4.17 in c:\\users\\deeks\\anaconda3\\lib\\site-packages (from requests>=2.24.0->pandas_profiling) (2020.6.20)\n",
      "Requirement already satisfied: idna<3,>=2.5 in c:\\users\\deeks\\anaconda3\\lib\\site-packages (from requests>=2.24.0->pandas_profiling) (2.10)\n",
      "Requirement already satisfied: chardet<4,>=3.0.2 in c:\\users\\deeks\\anaconda3\\lib\\site-packages (from requests>=2.24.0->pandas_profiling) (3.0.4)\n",
      "Requirement already satisfied: typing-extensions>=3.7.4.3 in c:\\users\\deeks\\anaconda3\\lib\\site-packages (from pydantic>=1.8.1->pandas_profiling) (3.7.4.3)\n",
      "Requirement already satisfied: python-dateutil>=2.7.3 in c:\\users\\deeks\\anaconda3\\lib\\site-packages (from pandas!=1.0.0,!=1.0.1,!=1.0.2,!=1.1.0,>=0.25.3->pandas_profiling) (2.8.1)\n",
      "Requirement already satisfied: pytz>=2017.2 in c:\\users\\deeks\\anaconda3\\lib\\site-packages (from pandas!=1.0.0,!=1.0.1,!=1.0.2,!=1.1.0,>=0.25.3->pandas_profiling) (2020.1)\n",
      "Requirement already satisfied: networkx>=2.4 in c:\\users\\deeks\\anaconda3\\lib\\site-packages (from visions[type_image_path]==0.7.1->pandas_profiling) (2.5)\n",
      "Requirement already satisfied: attrs>=19.3.0 in c:\\users\\deeks\\anaconda3\\lib\\site-packages (from visions[type_image_path]==0.7.1->pandas_profiling) (20.3.0)\n",
      "Requirement already satisfied: multimethod==1.4 in c:\\users\\deeks\\anaconda3\\lib\\site-packages (from visions[type_image_path]==0.7.1->pandas_profiling) (1.4)\n",
      "Requirement already satisfied: bottleneck in c:\\users\\deeks\\anaconda3\\lib\\site-packages (from visions[type_image_path]==0.7.1->pandas_profiling) (1.3.2)\n",
      "Requirement already satisfied: imagehash; extra == \"type_image_path\" in c:\\users\\deeks\\anaconda3\\lib\\site-packages (from visions[type_image_path]==0.7.1->pandas_profiling) (4.2.1)\n",
      "Requirement already satisfied: Pillow; extra == \"type_image_path\" in c:\\users\\deeks\\anaconda3\\lib\\site-packages (from visions[type_image_path]==0.7.1->pandas_profiling) (8.0.1)\n",
      "Requirement already satisfied: cycler>=0.10 in c:\\users\\deeks\\anaconda3\\lib\\site-packages (from matplotlib>=3.2.0->pandas_profiling) (0.10.0)\n",
      "Requirement already satisfied: kiwisolver>=1.0.1 in c:\\users\\deeks\\anaconda3\\lib\\site-packages (from matplotlib>=3.2.0->pandas_profiling) (1.3.0)\n",
      "Requirement already satisfied: pyparsing!=2.0.4,!=2.1.2,!=2.1.6,>=2.0.3 in c:\\users\\deeks\\anaconda3\\lib\\site-packages (from matplotlib>=3.2.0->pandas_profiling) (2.4.7)\n",
      "Requirement already satisfied: MarkupSafe>=0.23 in c:\\users\\deeks\\anaconda3\\lib\\site-packages (from jinja2>=2.11.1->pandas_profiling) (1.1.1)\n",
      "Requirement already satisfied: six>=1.5 in c:\\users\\deeks\\anaconda3\\lib\\site-packages (from python-dateutil>=2.7.3->pandas!=1.0.0,!=1.0.1,!=1.0.2,!=1.1.0,>=0.25.3->pandas_profiling) (1.15.0)\n",
      "Requirement already satisfied: decorator>=4.3.0 in c:\\users\\deeks\\anaconda3\\lib\\site-packages (from networkx>=2.4->visions[type_image_path]==0.7.1->pandas_profiling) (4.4.2)\n",
      "Requirement already satisfied: PyWavelets in c:\\users\\deeks\\anaconda3\\lib\\site-packages (from imagehash; extra == \"type_image_path\"->visions[type_image_path]==0.7.1->pandas_profiling) (1.1.1)\n"
     ]
    }
   ],
   "source": [
    "!pip install pandas_profiling"
   ]
  },
  {
   "cell_type": "code",
   "execution_count": 16,
   "metadata": {},
   "outputs": [
    {
     "data": {
      "application/vnd.jupyter.widget-view+json": {
       "model_id": "5f2e962949b34624aab8de34b3c4e11b",
       "version_major": 2,
       "version_minor": 0
      },
      "text/plain": [
       "HBox(children=(HTML(value='Summarize dataset'), FloatProgress(value=0.0, max=38.0), HTML(value='')))"
      ]
     },
     "metadata": {},
     "output_type": "display_data"
    },
    {
     "name": "stdout",
     "output_type": "stream",
     "text": [
      "\n"
     ]
    },
    {
     "data": {
      "application/vnd.jupyter.widget-view+json": {
       "model_id": "c7d560c35f6f492d9649ee43beb7ee8c",
       "version_major": 2,
       "version_minor": 0
      },
      "text/plain": [
       "HBox(children=(HTML(value='Generate report structure'), FloatProgress(value=0.0, max=1.0), HTML(value='')))"
      ]
     },
     "metadata": {},
     "output_type": "display_data"
    },
    {
     "name": "stdout",
     "output_type": "stream",
     "text": [
      "\n"
     ]
    },
    {
     "data": {
      "application/vnd.jupyter.widget-view+json": {
       "model_id": "d5eda0f6ffda4a49b920b16b0c4e760a",
       "version_major": 2,
       "version_minor": 0
      },
      "text/plain": [
       "HBox(children=(HTML(value='Render HTML'), FloatProgress(value=0.0, max=1.0), HTML(value='')))"
      ]
     },
     "metadata": {},
     "output_type": "display_data"
    },
    {
     "name": "stdout",
     "output_type": "stream",
     "text": [
      "\n"
     ]
    },
    {
     "data": {
      "application/vnd.jupyter.widget-view+json": {
       "model_id": "3934e6fee4074c6fa4f913fa203cf2d3",
       "version_major": 2,
       "version_minor": 0
      },
      "text/plain": [
       "HBox(children=(HTML(value='Export report to file'), FloatProgress(value=0.0, max=1.0), HTML(value='')))"
      ]
     },
     "metadata": {},
     "output_type": "display_data"
    },
    {
     "name": "stdout",
     "output_type": "stream",
     "text": [
      "\n"
     ]
    }
   ],
   "source": [
    "from pandas_profiling import ProfileReport\n",
    "profile=ProfileReport(df)\n",
    "profile.to_file(output_file=\"churn.html\")\n"
   ]
  },
  {
   "cell_type": "code",
   "execution_count": 17,
   "metadata": {},
   "outputs": [
    {
     "data": {
      "text/html": [
       "<div>\n",
       "<style scoped>\n",
       "    .dataframe tbody tr th:only-of-type {\n",
       "        vertical-align: middle;\n",
       "    }\n",
       "\n",
       "    .dataframe tbody tr th {\n",
       "        vertical-align: top;\n",
       "    }\n",
       "\n",
       "    .dataframe thead th {\n",
       "        text-align: right;\n",
       "    }\n",
       "</style>\n",
       "<table border=\"1\" class=\"dataframe\">\n",
       "  <thead>\n",
       "    <tr style=\"text-align: right;\">\n",
       "      <th></th>\n",
       "      <th>complaint_status</th>\n",
       "      <th>past_complaint</th>\n",
       "    </tr>\n",
       "  </thead>\n",
       "  <tbody>\n",
       "    <tr>\n",
       "      <th>0</th>\n",
       "      <td>Not Applicable</td>\n",
       "      <td>No</td>\n",
       "    </tr>\n",
       "    <tr>\n",
       "      <th>1</th>\n",
       "      <td>Solved</td>\n",
       "      <td>Yes</td>\n",
       "    </tr>\n",
       "    <tr>\n",
       "      <th>2</th>\n",
       "      <td>Solved in Follow-up</td>\n",
       "      <td>Yes</td>\n",
       "    </tr>\n",
       "    <tr>\n",
       "      <th>3</th>\n",
       "      <td>Unsolved</td>\n",
       "      <td>Yes</td>\n",
       "    </tr>\n",
       "    <tr>\n",
       "      <th>4</th>\n",
       "      <td>Solved</td>\n",
       "      <td>Yes</td>\n",
       "    </tr>\n",
       "  </tbody>\n",
       "</table>\n",
       "</div>"
      ],
      "text/plain": [
       "      complaint_status past_complaint\n",
       "0       Not Applicable             No\n",
       "1               Solved            Yes\n",
       "2  Solved in Follow-up            Yes\n",
       "3             Unsolved            Yes\n",
       "4               Solved            Yes"
      ]
     },
     "execution_count": 17,
     "metadata": {},
     "output_type": "execute_result"
    }
   ],
   "source": [
    "#highly correlated\n",
    "df[['complaint_status','past_complaint']].head()"
   ]
  },
  {
   "cell_type": "code",
   "execution_count": 18,
   "metadata": {},
   "outputs": [],
   "source": [
    "#dropping highly correlated columns\n",
    "df.drop('complaint_status', axis=1, inplace=True)"
   ]
  },
  {
   "cell_type": "code",
   "execution_count": 19,
   "metadata": {},
   "outputs": [
    {
     "data": {
      "text/plain": [
       "Index(['customer_id', 'Name', 'age', 'gender', 'security_no',\n",
       "       'region_category', 'membership_category', 'joining_date',\n",
       "       'joined_through_referral', 'referral_id', 'preferred_offer_types',\n",
       "       'medium_of_operation', 'internet_option', 'last_visit_time',\n",
       "       'days_since_last_login', 'avg_time_spent', 'avg_transaction_value',\n",
       "       'avg_frequency_login_days', 'points_in_wallet', 'used_special_discount',\n",
       "       'offer_application_preference', 'past_complaint', 'feedback',\n",
       "       'churn_risk_score'],\n",
       "      dtype='object')"
      ]
     },
     "execution_count": 19,
     "metadata": {},
     "output_type": "execute_result"
    }
   ],
   "source": [
    "df.columns"
   ]
  },
  {
   "cell_type": "code",
   "execution_count": 20,
   "metadata": {},
   "outputs": [
    {
     "name": "stdout",
     "output_type": "stream",
     "text": [
      "<class 'pandas.core.frame.DataFrame'>\n",
      "RangeIndex: 36992 entries, 0 to 36991\n",
      "Data columns (total 24 columns):\n",
      " #   Column                        Non-Null Count  Dtype  \n",
      "---  ------                        --------------  -----  \n",
      " 0   customer_id                   36992 non-null  object \n",
      " 1   Name                          36992 non-null  object \n",
      " 2   age                           36992 non-null  int64  \n",
      " 3   gender                        36992 non-null  object \n",
      " 4   security_no                   36992 non-null  object \n",
      " 5   region_category               36992 non-null  object \n",
      " 6   membership_category           36992 non-null  object \n",
      " 7   joining_date                  36992 non-null  object \n",
      " 8   joined_through_referral       36992 non-null  object \n",
      " 9   referral_id                   36992 non-null  object \n",
      " 10  preferred_offer_types         36992 non-null  object \n",
      " 11  medium_of_operation           36992 non-null  object \n",
      " 12  internet_option               36992 non-null  object \n",
      " 13  last_visit_time               36992 non-null  object \n",
      " 14  days_since_last_login         36992 non-null  int64  \n",
      " 15  avg_time_spent                36992 non-null  float64\n",
      " 16  avg_transaction_value         36992 non-null  float64\n",
      " 17  avg_frequency_login_days      36992 non-null  object \n",
      " 18  points_in_wallet              36992 non-null  float64\n",
      " 19  used_special_discount         36992 non-null  object \n",
      " 20  offer_application_preference  36992 non-null  object \n",
      " 21  past_complaint                36992 non-null  object \n",
      " 22  feedback                      36992 non-null  object \n",
      " 23  churn_risk_score              36992 non-null  int64  \n",
      "dtypes: float64(3), int64(3), object(18)\n",
      "memory usage: 6.8+ MB\n"
     ]
    }
   ],
   "source": [
    "df.info()"
   ]
  },
  {
   "cell_type": "code",
   "execution_count": 21,
   "metadata": {},
   "outputs": [],
   "source": [
    "#graph for numerical data\n",
    "df1=df[['age','days_since_last_login','avg_time_spent','avg_transaction_value','points_in_wallet', 'churn_risk_score']]"
   ]
  },
  {
   "cell_type": "code",
   "execution_count": 22,
   "metadata": {},
   "outputs": [
    {
     "data": {
      "text/html": [
       "<div>\n",
       "<style scoped>\n",
       "    .dataframe tbody tr th:only-of-type {\n",
       "        vertical-align: middle;\n",
       "    }\n",
       "\n",
       "    .dataframe tbody tr th {\n",
       "        vertical-align: top;\n",
       "    }\n",
       "\n",
       "    .dataframe thead th {\n",
       "        text-align: right;\n",
       "    }\n",
       "</style>\n",
       "<table border=\"1\" class=\"dataframe\">\n",
       "  <thead>\n",
       "    <tr style=\"text-align: right;\">\n",
       "      <th></th>\n",
       "      <th>age</th>\n",
       "      <th>days_since_last_login</th>\n",
       "      <th>avg_time_spent</th>\n",
       "      <th>avg_transaction_value</th>\n",
       "      <th>points_in_wallet</th>\n",
       "      <th>churn_risk_score</th>\n",
       "    </tr>\n",
       "  </thead>\n",
       "  <tbody>\n",
       "    <tr>\n",
       "      <th>0</th>\n",
       "      <td>18</td>\n",
       "      <td>17</td>\n",
       "      <td>300.63</td>\n",
       "      <td>53005.25</td>\n",
       "      <td>781.750000</td>\n",
       "      <td>2</td>\n",
       "    </tr>\n",
       "    <tr>\n",
       "      <th>1</th>\n",
       "      <td>32</td>\n",
       "      <td>16</td>\n",
       "      <td>306.34</td>\n",
       "      <td>12838.38</td>\n",
       "      <td>686.882199</td>\n",
       "      <td>1</td>\n",
       "    </tr>\n",
       "    <tr>\n",
       "      <th>2</th>\n",
       "      <td>44</td>\n",
       "      <td>14</td>\n",
       "      <td>516.16</td>\n",
       "      <td>21027.00</td>\n",
       "      <td>500.690000</td>\n",
       "      <td>5</td>\n",
       "    </tr>\n",
       "    <tr>\n",
       "      <th>3</th>\n",
       "      <td>37</td>\n",
       "      <td>11</td>\n",
       "      <td>53.27</td>\n",
       "      <td>25239.56</td>\n",
       "      <td>567.660000</td>\n",
       "      <td>5</td>\n",
       "    </tr>\n",
       "    <tr>\n",
       "      <th>4</th>\n",
       "      <td>31</td>\n",
       "      <td>20</td>\n",
       "      <td>113.13</td>\n",
       "      <td>24483.66</td>\n",
       "      <td>663.060000</td>\n",
       "      <td>5</td>\n",
       "    </tr>\n",
       "  </tbody>\n",
       "</table>\n",
       "</div>"
      ],
      "text/plain": [
       "   age  days_since_last_login  avg_time_spent  avg_transaction_value  \\\n",
       "0   18                     17          300.63               53005.25   \n",
       "1   32                     16          306.34               12838.38   \n",
       "2   44                     14          516.16               21027.00   \n",
       "3   37                     11           53.27               25239.56   \n",
       "4   31                     20          113.13               24483.66   \n",
       "\n",
       "   points_in_wallet  churn_risk_score  \n",
       "0        781.750000                 2  \n",
       "1        686.882199                 1  \n",
       "2        500.690000                 5  \n",
       "3        567.660000                 5  \n",
       "4        663.060000                 5  "
      ]
     },
     "execution_count": 22,
     "metadata": {},
     "output_type": "execute_result"
    }
   ],
   "source": [
    "df1.head()"
   ]
  },
  {
   "cell_type": "code",
   "execution_count": 23,
   "metadata": {},
   "outputs": [
    {
     "data": {
      "text/html": [
       "<div>\n",
       "<style scoped>\n",
       "    .dataframe tbody tr th:only-of-type {\n",
       "        vertical-align: middle;\n",
       "    }\n",
       "\n",
       "    .dataframe tbody tr th {\n",
       "        vertical-align: top;\n",
       "    }\n",
       "\n",
       "    .dataframe thead th {\n",
       "        text-align: right;\n",
       "    }\n",
       "</style>\n",
       "<table border=\"1\" class=\"dataframe\">\n",
       "  <thead>\n",
       "    <tr style=\"text-align: right;\">\n",
       "      <th></th>\n",
       "      <th>customer_id</th>\n",
       "      <th>Name</th>\n",
       "      <th>age</th>\n",
       "      <th>gender</th>\n",
       "      <th>security_no</th>\n",
       "      <th>region_category</th>\n",
       "      <th>membership_category</th>\n",
       "      <th>joining_date</th>\n",
       "      <th>joined_through_referral</th>\n",
       "      <th>referral_id</th>\n",
       "      <th>...</th>\n",
       "      <th>days_since_last_login</th>\n",
       "      <th>avg_time_spent</th>\n",
       "      <th>avg_transaction_value</th>\n",
       "      <th>avg_frequency_login_days</th>\n",
       "      <th>points_in_wallet</th>\n",
       "      <th>used_special_discount</th>\n",
       "      <th>offer_application_preference</th>\n",
       "      <th>past_complaint</th>\n",
       "      <th>feedback</th>\n",
       "      <th>churn_risk_score</th>\n",
       "    </tr>\n",
       "  </thead>\n",
       "  <tbody>\n",
       "    <tr>\n",
       "      <th>0</th>\n",
       "      <td>fffe4300490044003600300030003800</td>\n",
       "      <td>Pattie Morrisey</td>\n",
       "      <td>18</td>\n",
       "      <td>F</td>\n",
       "      <td>XW0DQ7H</td>\n",
       "      <td>Village</td>\n",
       "      <td>Platinum Membership</td>\n",
       "      <td>2017-08-17</td>\n",
       "      <td>No</td>\n",
       "      <td>xxxxxxxx</td>\n",
       "      <td>...</td>\n",
       "      <td>17</td>\n",
       "      <td>300.63</td>\n",
       "      <td>53005.25</td>\n",
       "      <td>17.0</td>\n",
       "      <td>781.750000</td>\n",
       "      <td>Yes</td>\n",
       "      <td>Yes</td>\n",
       "      <td>No</td>\n",
       "      <td>Products always in Stock</td>\n",
       "      <td>2</td>\n",
       "    </tr>\n",
       "    <tr>\n",
       "      <th>1</th>\n",
       "      <td>fffe43004900440032003100300035003700</td>\n",
       "      <td>Traci Peery</td>\n",
       "      <td>32</td>\n",
       "      <td>F</td>\n",
       "      <td>5K0N3X1</td>\n",
       "      <td>City</td>\n",
       "      <td>Premium Membership</td>\n",
       "      <td>2017-08-28</td>\n",
       "      <td>?</td>\n",
       "      <td>CID21329</td>\n",
       "      <td>...</td>\n",
       "      <td>16</td>\n",
       "      <td>306.34</td>\n",
       "      <td>12838.38</td>\n",
       "      <td>10.0</td>\n",
       "      <td>686.882199</td>\n",
       "      <td>Yes</td>\n",
       "      <td>No</td>\n",
       "      <td>Yes</td>\n",
       "      <td>Quality Customer Care</td>\n",
       "      <td>1</td>\n",
       "    </tr>\n",
       "    <tr>\n",
       "      <th>2</th>\n",
       "      <td>fffe4300490044003100390032003600</td>\n",
       "      <td>Merideth Mcmeen</td>\n",
       "      <td>44</td>\n",
       "      <td>F</td>\n",
       "      <td>1F2TCL3</td>\n",
       "      <td>Town</td>\n",
       "      <td>No Membership</td>\n",
       "      <td>2016-11-11</td>\n",
       "      <td>Yes</td>\n",
       "      <td>CID12313</td>\n",
       "      <td>...</td>\n",
       "      <td>14</td>\n",
       "      <td>516.16</td>\n",
       "      <td>21027.00</td>\n",
       "      <td>22.0</td>\n",
       "      <td>500.690000</td>\n",
       "      <td>No</td>\n",
       "      <td>Yes</td>\n",
       "      <td>Yes</td>\n",
       "      <td>Poor Website</td>\n",
       "      <td>5</td>\n",
       "    </tr>\n",
       "    <tr>\n",
       "      <th>3</th>\n",
       "      <td>fffe43004900440036003000330031003600</td>\n",
       "      <td>Eufemia Cardwell</td>\n",
       "      <td>37</td>\n",
       "      <td>M</td>\n",
       "      <td>VJGJ33N</td>\n",
       "      <td>City</td>\n",
       "      <td>No Membership</td>\n",
       "      <td>2016-10-29</td>\n",
       "      <td>Yes</td>\n",
       "      <td>CID3793</td>\n",
       "      <td>...</td>\n",
       "      <td>11</td>\n",
       "      <td>53.27</td>\n",
       "      <td>25239.56</td>\n",
       "      <td>6.0</td>\n",
       "      <td>567.660000</td>\n",
       "      <td>No</td>\n",
       "      <td>Yes</td>\n",
       "      <td>Yes</td>\n",
       "      <td>Poor Website</td>\n",
       "      <td>5</td>\n",
       "    </tr>\n",
       "    <tr>\n",
       "      <th>4</th>\n",
       "      <td>fffe43004900440031003900350030003600</td>\n",
       "      <td>Meghan Kosak</td>\n",
       "      <td>31</td>\n",
       "      <td>F</td>\n",
       "      <td>SVZXCWB</td>\n",
       "      <td>City</td>\n",
       "      <td>No Membership</td>\n",
       "      <td>2017-09-12</td>\n",
       "      <td>No</td>\n",
       "      <td>xxxxxxxx</td>\n",
       "      <td>...</td>\n",
       "      <td>20</td>\n",
       "      <td>113.13</td>\n",
       "      <td>24483.66</td>\n",
       "      <td>16.0</td>\n",
       "      <td>663.060000</td>\n",
       "      <td>No</td>\n",
       "      <td>Yes</td>\n",
       "      <td>Yes</td>\n",
       "      <td>Poor Website</td>\n",
       "      <td>5</td>\n",
       "    </tr>\n",
       "  </tbody>\n",
       "</table>\n",
       "<p>5 rows × 24 columns</p>\n",
       "</div>"
      ],
      "text/plain": [
       "                            customer_id              Name  age gender  \\\n",
       "0      fffe4300490044003600300030003800   Pattie Morrisey   18      F   \n",
       "1  fffe43004900440032003100300035003700       Traci Peery   32      F   \n",
       "2      fffe4300490044003100390032003600   Merideth Mcmeen   44      F   \n",
       "3  fffe43004900440036003000330031003600  Eufemia Cardwell   37      M   \n",
       "4  fffe43004900440031003900350030003600      Meghan Kosak   31      F   \n",
       "\n",
       "  security_no region_category  membership_category joining_date  \\\n",
       "0     XW0DQ7H         Village  Platinum Membership   2017-08-17   \n",
       "1     5K0N3X1            City   Premium Membership   2017-08-28   \n",
       "2     1F2TCL3            Town        No Membership   2016-11-11   \n",
       "3     VJGJ33N            City        No Membership   2016-10-29   \n",
       "4     SVZXCWB            City        No Membership   2017-09-12   \n",
       "\n",
       "  joined_through_referral referral_id  ... days_since_last_login  \\\n",
       "0                      No    xxxxxxxx  ...                    17   \n",
       "1                       ?    CID21329  ...                    16   \n",
       "2                     Yes    CID12313  ...                    14   \n",
       "3                     Yes     CID3793  ...                    11   \n",
       "4                      No    xxxxxxxx  ...                    20   \n",
       "\n",
       "  avg_time_spent avg_transaction_value avg_frequency_login_days  \\\n",
       "0         300.63              53005.25                     17.0   \n",
       "1         306.34              12838.38                     10.0   \n",
       "2         516.16              21027.00                     22.0   \n",
       "3          53.27              25239.56                      6.0   \n",
       "4         113.13              24483.66                     16.0   \n",
       "\n",
       "   points_in_wallet  used_special_discount  offer_application_preference  \\\n",
       "0        781.750000                    Yes                           Yes   \n",
       "1        686.882199                    Yes                            No   \n",
       "2        500.690000                     No                           Yes   \n",
       "3        567.660000                     No                           Yes   \n",
       "4        663.060000                     No                           Yes   \n",
       "\n",
       "  past_complaint                  feedback churn_risk_score  \n",
       "0             No  Products always in Stock                2  \n",
       "1            Yes     Quality Customer Care                1  \n",
       "2            Yes              Poor Website                5  \n",
       "3            Yes              Poor Website                5  \n",
       "4            Yes              Poor Website                5  \n",
       "\n",
       "[5 rows x 24 columns]"
      ]
     },
     "execution_count": 23,
     "metadata": {},
     "output_type": "execute_result"
    }
   ],
   "source": [
    "df.head()"
   ]
  },
  {
   "cell_type": "code",
   "execution_count": 24,
   "metadata": {},
   "outputs": [],
   "source": [
    "df['joining_day']=pd.to_datetime(df.joining_date, format=\"%Y/%m/%d\").dt.day\n",
    "df['joining_month']=pd.to_datetime(df.joining_date, format=\"%Y/%m/%d\").dt.month\n",
    "df['joining_year']=pd.to_datetime(df.joining_date, format=\"%Y/%m/%d\").dt.year"
   ]
  },
  {
   "cell_type": "code",
   "execution_count": 25,
   "metadata": {},
   "outputs": [],
   "source": [
    "df.drop('joining_date', axis=1, inplace=True)"
   ]
  },
  {
   "cell_type": "code",
   "execution_count": 26,
   "metadata": {},
   "outputs": [
    {
     "data": {
      "text/html": [
       "<div>\n",
       "<style scoped>\n",
       "    .dataframe tbody tr th:only-of-type {\n",
       "        vertical-align: middle;\n",
       "    }\n",
       "\n",
       "    .dataframe tbody tr th {\n",
       "        vertical-align: top;\n",
       "    }\n",
       "\n",
       "    .dataframe thead th {\n",
       "        text-align: right;\n",
       "    }\n",
       "</style>\n",
       "<table border=\"1\" class=\"dataframe\">\n",
       "  <thead>\n",
       "    <tr style=\"text-align: right;\">\n",
       "      <th></th>\n",
       "      <th>customer_id</th>\n",
       "      <th>Name</th>\n",
       "      <th>age</th>\n",
       "      <th>gender</th>\n",
       "      <th>security_no</th>\n",
       "      <th>region_category</th>\n",
       "      <th>membership_category</th>\n",
       "      <th>joined_through_referral</th>\n",
       "      <th>referral_id</th>\n",
       "      <th>preferred_offer_types</th>\n",
       "      <th>...</th>\n",
       "      <th>avg_frequency_login_days</th>\n",
       "      <th>points_in_wallet</th>\n",
       "      <th>used_special_discount</th>\n",
       "      <th>offer_application_preference</th>\n",
       "      <th>past_complaint</th>\n",
       "      <th>feedback</th>\n",
       "      <th>churn_risk_score</th>\n",
       "      <th>joining_day</th>\n",
       "      <th>joining_month</th>\n",
       "      <th>joining_year</th>\n",
       "    </tr>\n",
       "  </thead>\n",
       "  <tbody>\n",
       "    <tr>\n",
       "      <th>0</th>\n",
       "      <td>fffe4300490044003600300030003800</td>\n",
       "      <td>Pattie Morrisey</td>\n",
       "      <td>18</td>\n",
       "      <td>F</td>\n",
       "      <td>XW0DQ7H</td>\n",
       "      <td>Village</td>\n",
       "      <td>Platinum Membership</td>\n",
       "      <td>No</td>\n",
       "      <td>xxxxxxxx</td>\n",
       "      <td>Gift Vouchers/Coupons</td>\n",
       "      <td>...</td>\n",
       "      <td>17.0</td>\n",
       "      <td>781.750000</td>\n",
       "      <td>Yes</td>\n",
       "      <td>Yes</td>\n",
       "      <td>No</td>\n",
       "      <td>Products always in Stock</td>\n",
       "      <td>2</td>\n",
       "      <td>17</td>\n",
       "      <td>8</td>\n",
       "      <td>2017</td>\n",
       "    </tr>\n",
       "    <tr>\n",
       "      <th>1</th>\n",
       "      <td>fffe43004900440032003100300035003700</td>\n",
       "      <td>Traci Peery</td>\n",
       "      <td>32</td>\n",
       "      <td>F</td>\n",
       "      <td>5K0N3X1</td>\n",
       "      <td>City</td>\n",
       "      <td>Premium Membership</td>\n",
       "      <td>?</td>\n",
       "      <td>CID21329</td>\n",
       "      <td>Gift Vouchers/Coupons</td>\n",
       "      <td>...</td>\n",
       "      <td>10.0</td>\n",
       "      <td>686.882199</td>\n",
       "      <td>Yes</td>\n",
       "      <td>No</td>\n",
       "      <td>Yes</td>\n",
       "      <td>Quality Customer Care</td>\n",
       "      <td>1</td>\n",
       "      <td>28</td>\n",
       "      <td>8</td>\n",
       "      <td>2017</td>\n",
       "    </tr>\n",
       "    <tr>\n",
       "      <th>2</th>\n",
       "      <td>fffe4300490044003100390032003600</td>\n",
       "      <td>Merideth Mcmeen</td>\n",
       "      <td>44</td>\n",
       "      <td>F</td>\n",
       "      <td>1F2TCL3</td>\n",
       "      <td>Town</td>\n",
       "      <td>No Membership</td>\n",
       "      <td>Yes</td>\n",
       "      <td>CID12313</td>\n",
       "      <td>Gift Vouchers/Coupons</td>\n",
       "      <td>...</td>\n",
       "      <td>22.0</td>\n",
       "      <td>500.690000</td>\n",
       "      <td>No</td>\n",
       "      <td>Yes</td>\n",
       "      <td>Yes</td>\n",
       "      <td>Poor Website</td>\n",
       "      <td>5</td>\n",
       "      <td>11</td>\n",
       "      <td>11</td>\n",
       "      <td>2016</td>\n",
       "    </tr>\n",
       "    <tr>\n",
       "      <th>3</th>\n",
       "      <td>fffe43004900440036003000330031003600</td>\n",
       "      <td>Eufemia Cardwell</td>\n",
       "      <td>37</td>\n",
       "      <td>M</td>\n",
       "      <td>VJGJ33N</td>\n",
       "      <td>City</td>\n",
       "      <td>No Membership</td>\n",
       "      <td>Yes</td>\n",
       "      <td>CID3793</td>\n",
       "      <td>Gift Vouchers/Coupons</td>\n",
       "      <td>...</td>\n",
       "      <td>6.0</td>\n",
       "      <td>567.660000</td>\n",
       "      <td>No</td>\n",
       "      <td>Yes</td>\n",
       "      <td>Yes</td>\n",
       "      <td>Poor Website</td>\n",
       "      <td>5</td>\n",
       "      <td>29</td>\n",
       "      <td>10</td>\n",
       "      <td>2016</td>\n",
       "    </tr>\n",
       "    <tr>\n",
       "      <th>4</th>\n",
       "      <td>fffe43004900440031003900350030003600</td>\n",
       "      <td>Meghan Kosak</td>\n",
       "      <td>31</td>\n",
       "      <td>F</td>\n",
       "      <td>SVZXCWB</td>\n",
       "      <td>City</td>\n",
       "      <td>No Membership</td>\n",
       "      <td>No</td>\n",
       "      <td>xxxxxxxx</td>\n",
       "      <td>Credit/Debit Card Offers</td>\n",
       "      <td>...</td>\n",
       "      <td>16.0</td>\n",
       "      <td>663.060000</td>\n",
       "      <td>No</td>\n",
       "      <td>Yes</td>\n",
       "      <td>Yes</td>\n",
       "      <td>Poor Website</td>\n",
       "      <td>5</td>\n",
       "      <td>12</td>\n",
       "      <td>9</td>\n",
       "      <td>2017</td>\n",
       "    </tr>\n",
       "  </tbody>\n",
       "</table>\n",
       "<p>5 rows × 26 columns</p>\n",
       "</div>"
      ],
      "text/plain": [
       "                            customer_id              Name  age gender  \\\n",
       "0      fffe4300490044003600300030003800   Pattie Morrisey   18      F   \n",
       "1  fffe43004900440032003100300035003700       Traci Peery   32      F   \n",
       "2      fffe4300490044003100390032003600   Merideth Mcmeen   44      F   \n",
       "3  fffe43004900440036003000330031003600  Eufemia Cardwell   37      M   \n",
       "4  fffe43004900440031003900350030003600      Meghan Kosak   31      F   \n",
       "\n",
       "  security_no region_category  membership_category joined_through_referral  \\\n",
       "0     XW0DQ7H         Village  Platinum Membership                      No   \n",
       "1     5K0N3X1            City   Premium Membership                       ?   \n",
       "2     1F2TCL3            Town        No Membership                     Yes   \n",
       "3     VJGJ33N            City        No Membership                     Yes   \n",
       "4     SVZXCWB            City        No Membership                      No   \n",
       "\n",
       "  referral_id     preferred_offer_types  ... avg_frequency_login_days  \\\n",
       "0    xxxxxxxx     Gift Vouchers/Coupons  ...                     17.0   \n",
       "1    CID21329     Gift Vouchers/Coupons  ...                     10.0   \n",
       "2    CID12313     Gift Vouchers/Coupons  ...                     22.0   \n",
       "3     CID3793     Gift Vouchers/Coupons  ...                      6.0   \n",
       "4    xxxxxxxx  Credit/Debit Card Offers  ...                     16.0   \n",
       "\n",
       "  points_in_wallet used_special_discount  offer_application_preference  \\\n",
       "0       781.750000                   Yes                           Yes   \n",
       "1       686.882199                   Yes                            No   \n",
       "2       500.690000                    No                           Yes   \n",
       "3       567.660000                    No                           Yes   \n",
       "4       663.060000                    No                           Yes   \n",
       "\n",
       "   past_complaint                  feedback churn_risk_score  joining_day  \\\n",
       "0              No  Products always in Stock                2           17   \n",
       "1             Yes     Quality Customer Care                1           28   \n",
       "2             Yes              Poor Website                5           11   \n",
       "3             Yes              Poor Website                5           29   \n",
       "4             Yes              Poor Website                5           12   \n",
       "\n",
       "  joining_month joining_year  \n",
       "0             8         2017  \n",
       "1             8         2017  \n",
       "2            11         2016  \n",
       "3            10         2016  \n",
       "4             9         2017  \n",
       "\n",
       "[5 rows x 26 columns]"
      ]
     },
     "execution_count": 26,
     "metadata": {},
     "output_type": "execute_result"
    }
   ],
   "source": [
    "df.head()"
   ]
  },
  {
   "cell_type": "code",
   "execution_count": 27,
   "metadata": {},
   "outputs": [
    {
     "data": {
      "text/html": [
       "<div>\n",
       "<style scoped>\n",
       "    .dataframe tbody tr th:only-of-type {\n",
       "        vertical-align: middle;\n",
       "    }\n",
       "\n",
       "    .dataframe tbody tr th {\n",
       "        vertical-align: top;\n",
       "    }\n",
       "\n",
       "    .dataframe thead th {\n",
       "        text-align: right;\n",
       "    }\n",
       "</style>\n",
       "<table border=\"1\" class=\"dataframe\">\n",
       "  <thead>\n",
       "    <tr style=\"text-align: right;\">\n",
       "      <th></th>\n",
       "      <th>last_visit_time</th>\n",
       "    </tr>\n",
       "  </thead>\n",
       "  <tbody>\n",
       "    <tr>\n",
       "      <th>0</th>\n",
       "      <td>16:08:02</td>\n",
       "    </tr>\n",
       "    <tr>\n",
       "      <th>1</th>\n",
       "      <td>12:38:13</td>\n",
       "    </tr>\n",
       "    <tr>\n",
       "      <th>2</th>\n",
       "      <td>22:53:21</td>\n",
       "    </tr>\n",
       "    <tr>\n",
       "      <th>3</th>\n",
       "      <td>15:57:50</td>\n",
       "    </tr>\n",
       "    <tr>\n",
       "      <th>4</th>\n",
       "      <td>15:46:44</td>\n",
       "    </tr>\n",
       "  </tbody>\n",
       "</table>\n",
       "</div>"
      ],
      "text/plain": [
       "  last_visit_time\n",
       "0        16:08:02\n",
       "1        12:38:13\n",
       "2        22:53:21\n",
       "3        15:57:50\n",
       "4        15:46:44"
      ]
     },
     "execution_count": 27,
     "metadata": {},
     "output_type": "execute_result"
    }
   ],
   "source": [
    "df[['last_visit_time']].head()"
   ]
  },
  {
   "cell_type": "code",
   "execution_count": 28,
   "metadata": {},
   "outputs": [],
   "source": [
    "df[['last_visit_hour', 'last_visit_minutes', 'last_visit_seconds']]=df['last_visit_time'].astype(str).str.split(':',expand=True).astype(int)"
   ]
  },
  {
   "cell_type": "code",
   "execution_count": 29,
   "metadata": {},
   "outputs": [],
   "source": [
    "df.drop('last_visit_time', axis=1, inplace=True)"
   ]
  },
  {
   "cell_type": "code",
   "execution_count": 30,
   "metadata": {},
   "outputs": [],
   "source": [
    "#explodoing categorical data into diff int column\n",
    "gender = pd.get_dummies(df[['gender']], drop_first=True)\n",
    "region = pd.get_dummies(df[['region_category']], drop_first=True)\n",
    "membership = pd.get_dummies(df[['membership_category']], drop_first=True)\n",
    "referal = pd.get_dummies(df[['joined_through_referral']], drop_first=True)\n",
    "offer = pd.get_dummies(df[['preferred_offer_types']], drop_first=True)\n",
    "medium = pd.get_dummies(df[['medium_of_operation']], drop_first=True)\n",
    "internet = pd.get_dummies(df[['internet_option']], drop_first=True)\n",
    "discount = pd.get_dummies(df[['used_special_discount']], drop_first=True)\n",
    "application = pd.get_dummies(df[['offer_application_preference']], drop_first=True)\n",
    "complaint = pd.get_dummies(df[['past_complaint']], drop_first=True)\n",
    "feedback = pd.get_dummies(df[['feedback']], drop_first=True)\n"
   ]
  },
  {
   "cell_type": "code",
   "execution_count": 31,
   "metadata": {},
   "outputs": [],
   "source": [
    "data_train = pd.concat([df, gender, region, membership, referal, offer, medium, internet, discount, application, complaint, feedback ], axis = 1)"
   ]
  },
  {
   "cell_type": "code",
   "execution_count": 32,
   "metadata": {},
   "outputs": [],
   "source": [
    "#droping unnexessary column\n",
    "data_train.drop([\"customer_id\", \"Name\", \"gender\", \"security_no\", \"region_category\", \"membership_category\", \"joined_through_referral\", \"referral_id\", \"preferred_offer_types\", \"medium_of_operation\", \"internet_option\", \"used_special_discount\", \"offer_application_preference\", \"past_complaint\", \"feedback\", \"avg_frequency_login_days\" ], axis = 1, inplace = True)"
   ]
  },
  {
   "cell_type": "code",
   "execution_count": 33,
   "metadata": {},
   "outputs": [
    {
     "data": {
      "text/plain": [
       "(36992, 41)"
      ]
     },
     "execution_count": 33,
     "metadata": {},
     "output_type": "execute_result"
    }
   ],
   "source": [
    "data_train.shape"
   ]
  },
  {
   "cell_type": "code",
   "execution_count": 34,
   "metadata": {},
   "outputs": [],
   "source": [
    "tf = pd.read_csv(\"dataset/test.csv\")"
   ]
  },
  {
   "cell_type": "code",
   "execution_count": 35,
   "metadata": {},
   "outputs": [],
   "source": [
    "# preprocessing\n",
    "\n",
    "tf['region_category']= tf['region_category'].fillna(tf['region_category'].mode()[0])\n",
    "tf['preferred_offer_types']= tf['preferred_offer_types'].fillna(tf['preferred_offer_types'].mode()[0])\n",
    "\n",
    "\n",
    "tf['points_in_wallet']= tf['points_in_wallet'].fillna(tf['points_in_wallet'].mean())\n",
    "\n",
    "\n",
    "tf.drop('complaint_status', axis=1, inplace=True)\n",
    "\n",
    "\n",
    "tf[\"joining_day\"] = pd.to_datetime(tf.joining_date, format=\"%Y/%m/%d\").dt.day\n",
    "tf[\"joining_month\"] = pd.to_datetime(tf.joining_date, format=\"%Y/%m/%d\").dt.month\n",
    "tf[\"joining_year\"] = pd.to_datetime(tf.joining_date, format=\"%Y/%m/%d\").dt.year\n",
    "\n",
    "tf.drop([\"joining_date\"], axis=1, inplace=True)\n",
    "\n",
    "\n",
    "tf[['last_visit_time_hour','last_visit_time_minutes','last_visit_time_seconds']] = tf['last_visit_time'].astype(str).str.split(':', expand=True).astype(int)\n",
    "\n",
    "tf.drop([\"last_visit_time\"], axis = 1, inplace = True)\n",
    "\n",
    "\n",
    "gender = pd.get_dummies(tf[['gender']], drop_first=True)\n",
    "region = pd.get_dummies(tf[['region_category']], drop_first=True)\n",
    "membership = pd.get_dummies(tf[['membership_category']], drop_first=True)\n",
    "referal = pd.get_dummies(tf[['joined_through_referral']], drop_first=True)\n",
    "offer = pd.get_dummies(tf[['preferred_offer_types']], drop_first=True)\n",
    "medium = pd.get_dummies(tf[['medium_of_operation']], drop_first=True)\n",
    "internet = pd.get_dummies(tf[['internet_option']], drop_first=True)\n",
    "discount = pd.get_dummies(tf[['used_special_discount']], drop_first=True)\n",
    "application = pd.get_dummies(tf[['offer_application_preference']], drop_first=True)\n",
    "complaint = pd.get_dummies(tf[['past_complaint']], drop_first=True)\n",
    "feedback = pd.get_dummies(tf[['feedback']], drop_first=True)\n",
    "\n",
    "data_test = pd.concat([tf, gender, region, membership, referal, offer, medium, internet, discount, application, complaint, feedback ], axis = 1)\n",
    "data_test.drop([\"customer_id\", \"Name\", \"gender\", \"security_no\", \"region_category\", \"membership_category\", \"joined_through_referral\", \"referral_id\", \"preferred_offer_types\", \"medium_of_operation\", \"internet_option\", \"used_special_discount\", \"offer_application_preference\", \"past_complaint\", \"feedback\", \"avg_frequency_login_days\" ], axis = 1, inplace = True)\n"
   ]
  },
  {
   "cell_type": "code",
   "execution_count": 36,
   "metadata": {},
   "outputs": [],
   "source": [
    "x = data_train.loc[:, ['age', 'days_since_last_login', 'avg_time_spent',\n",
    "       'avg_transaction_value', 'points_in_wallet',\n",
    "       'joining_day', 'joining_month', 'joining_year', 'last_visit_hour',\n",
    "       'last_visit_minutes', 'last_visit_seconds', 'gender_M',\n",
    "       'gender_Unknown', 'region_category_Town', 'region_category_Village',\n",
    "       'membership_category_Gold Membership',\n",
    "       'membership_category_No Membership',\n",
    "       'membership_category_Platinum Membership',\n",
    "       'membership_category_Premium Membership',\n",
    "       'membership_category_Silver Membership', 'joined_through_referral_No',\n",
    "       'joined_through_referral_Yes',\n",
    "       'preferred_offer_types_Gift Vouchers/Coupons',\n",
    "       'preferred_offer_types_Without Offers', 'medium_of_operation_Both',\n",
    "       'medium_of_operation_Desktop', 'medium_of_operation_Smartphone',\n",
    "       'internet_option_Mobile_Data', 'internet_option_Wi-Fi',\n",
    "       'used_special_discount_Yes', 'offer_application_preference_Yes',\n",
    "       'past_complaint_Yes', 'feedback_Poor Customer Service',\n",
    "       'feedback_Poor Product Quality', 'feedback_Poor Website',\n",
    "       'feedback_Products always in Stock', 'feedback_Quality Customer Care',\n",
    "       'feedback_Reasonable Price', 'feedback_Too many ads',\n",
    "       'feedback_User Friendly Website']]"
   ]
  },
  {
   "cell_type": "code",
   "execution_count": 37,
   "metadata": {},
   "outputs": [],
   "source": [
    "y = data_train[['churn_risk_score']]"
   ]
  },
  {
   "cell_type": "code",
   "execution_count": 38,
   "metadata": {},
   "outputs": [
    {
     "name": "stderr",
     "output_type": "stream",
     "text": [
      "<ipython-input-38-7043f4adfc9e>:5: DataConversionWarning: A column-vector y was passed when a 1d array was expected. Please change the shape of y to (n_samples,), for example using ravel().\n",
      "  selection.fit(x,y)\n"
     ]
    },
    {
     "data": {
      "text/plain": [
       "ExtraTreesRegressor()"
      ]
     },
     "execution_count": 38,
     "metadata": {},
     "output_type": "execute_result"
    }
   ],
   "source": [
    "# important feature using extratreeregressor\n",
    "\n",
    "from sklearn.ensemble import ExtraTreesRegressor\n",
    "selection = ExtraTreesRegressor()\n",
    "selection.fit(x,y)"
   ]
  },
  {
   "cell_type": "code",
   "execution_count": 39,
   "metadata": {},
   "outputs": [
    {
     "name": "stdout",
     "output_type": "stream",
     "text": [
      "[0.02385673 0.02077083 0.02506974 0.06520135 0.06725631 0.02435373\n",
      " 0.02306026 0.01447225 0.02397814 0.0237025  0.02494245 0.00967686\n",
      " 0.00032514 0.01094377 0.00736778 0.02941299 0.13577444 0.03625579\n",
      " 0.02933302 0.0554218  0.00859175 0.00894342 0.0100087  0.00984772\n",
      " 0.00618559 0.00842953 0.00847131 0.00864279 0.00994073 0.00790085\n",
      " 0.0069903  0.0115396  0.00772034 0.00788097 0.00661989 0.05460985\n",
      " 0.05821209 0.04980197 0.00748626 0.05100046]\n"
     ]
    }
   ],
   "source": [
    "print(selection.feature_importances_)"
   ]
  },
  {
   "cell_type": "code",
   "execution_count": 40,
   "metadata": {},
   "outputs": [
    {
     "data": {
      "image/png": "[encoded data removed]",
      "text/plain": [
       "<Figure size 864x576 with 1 Axes>"
      ]
     },
     "metadata": {
      "needs_background": "light"
     },
     "output_type": "display_data"
    }
   ],
   "source": [
    "plt.figure(figsize = (12,8))\n",
    "feat_importances = pd.Series(selection.feature_importances_, index=x.columns)\n",
    "feat_importances.nlargest(20).plot(kind='barh')\n",
    "plt.show()"
   ]
  },
  {
   "cell_type": "code",
   "execution_count": 1,
   "metadata": {},
   "outputs": [
    {
     "name": "stdout",
     "output_type": "stream",
     "text": [
      "Collecting imblearn\n",
      "  Using cached imblearn-0.0-py2.py3-none-any.whl (1.9 kB)\n",
      "Requirement already satisfied: imbalanced-learn in c:\\users\\deeks\\anaconda3\\lib\\site-packages (from imblearn) (0.7.0)\n",
      "Requirement already satisfied: joblib>=0.11 in c:\\users\\deeks\\anaconda3\\lib\\site-packages (from imbalanced-learn->imblearn) (0.17.0)\n",
      "Requirement already satisfied: numpy>=1.13.3 in c:\\users\\deeks\\anaconda3\\lib\\site-packages (from imbalanced-learn->imblearn) (1.19.2)\n",
      "Requirement already satisfied: scikit-learn>=0.23 in c:\\users\\deeks\\anaconda3\\lib\\site-packages (from imbalanced-learn->imblearn) (0.24.2)\n",
      "Requirement already satisfied: scipy>=0.19.1 in c:\\users\\deeks\\anaconda3\\lib\\site-packages (from imbalanced-learn->imblearn) (1.5.2)\n",
      "Requirement already satisfied: threadpoolctl>=2.0.0 in c:\\users\\deeks\\anaconda3\\lib\\site-packages (from scikit-learn>=0.23->imbalanced-learn->imblearn) (2.1.0)\n",
      "Installing collected packages: imblearn\n",
      "Successfully installed imblearn-0.0\n"
     ]
    }
   ],
   "source": [
    "!pip install imblearn"
   ]
  },
  {
   "cell_type": "code",
   "execution_count": 58,
   "metadata": {},
   "outputs": [
    {
     "name": "stdout",
     "output_type": "stream",
     "text": [
      "Collecting xgboost\n",
      "  Downloading xgboost-1.4.2-py3-none-win_amd64.whl (97.8 MB)\n",
      "Requirement already satisfied: scipy in c:\\users\\deeks\\anaconda3\\lib\\site-packages (from xgboost) (1.5.2)\n",
      "Requirement already satisfied: numpy in c:\\users\\deeks\\anaconda3\\lib\\site-packages (from xgboost) (1.19.2)\n",
      "Installing collected packages: xgboost\n",
      "Successfully installed xgboost-1.4.2\n"
     ]
    }
   ],
   "source": [
    "!pip install xgboost"
   ]
  },
  {
   "cell_type": "code",
   "execution_count": 59,
   "metadata": {},
   "outputs": [],
   "source": [
    "#training\n",
    "from imblearn.combine import SMOTEENN\n",
    "from sklearn.tree import DecisionTreeClassifier\n",
    "from sklearn.model_selection import RandomizedSearchCV\n",
    "from xgboost import XGBClassifier"
   ]
  },
  {
   "cell_type": "code",
   "execution_count": 60,
   "metadata": {},
   "outputs": [],
   "source": [
    "x_train, x_test, y_train, y_test = train_test_split(x,y, test_size = 0.2, random_state = 42)"
   ]
  },
  {
   "cell_type": "code",
   "execution_count": 61,
   "metadata": {},
   "outputs": [],
   "source": [
    "param_grid={\n",
    "    'learning_rate':[1,0.5,0.1,0.01],\n",
    "    'max_depth':[3,5,10,20],\n",
    "    'n_estimators':[10,50,100,200]\n",
    "}"
   ]
  },
  {
   "cell_type": "code",
   "execution_count": 62,
   "metadata": {},
   "outputs": [],
   "source": [
    "grid = RandomizedSearchCV(XGBClassifier(objective='binary:logistic'), param_grid, verbose=3)"
   ]
  },
  {
   "cell_type": "code",
   "execution_count": 63,
   "metadata": {},
   "outputs": [
    {
     "name": "stdout",
     "output_type": "stream",
     "text": [
      "Fitting 5 folds for each of 10 candidates, totalling 50 fits\n"
     ]
    },
    {
     "name": "stderr",
     "output_type": "stream",
     "text": [
      "C:\\Users\\deeks\\anaconda3\\lib\\site-packages\\xgboost\\sklearn.py:1146: UserWarning: The use of label encoder in XGBClassifier is deprecated and will be removed in a future release. To remove this warning, do the following: 1) Pass option use_label_encoder=False when constructing XGBClassifier object; and 2) Encode your labels (y) as integers starting with 0, i.e. 0, 1, 2, ..., [num_class - 1].\n",
      "  warnings.warn(label_encoder_deprecation_msg, UserWarning)\n",
      "C:\\Users\\deeks\\anaconda3\\lib\\site-packages\\sklearn\\utils\\validation.py:63: DataConversionWarning: A column-vector y was passed when a 1d array was expected. Please change the shape of y to (n_samples, ), for example using ravel().\n",
      "  return f(*args, **kwargs)\n"
     ]
    },
    {
     "name": "stdout",
     "output_type": "stream",
     "text": [
      "[16:23:51] WARNING: C:/Users/Administrator/workspace/xgboost-win64_release_1.4.0/src/learner.cc:1095: Starting in XGBoost 1.3.0, the default evaluation metric used with the objective 'multi:softprob' was changed from 'merror' to 'mlogloss'. Explicitly set eval_metric if you'd like to restore the old behavior.\n",
      "[CV 1/5] END learning_rate=0.5, max_depth=20, n_estimators=100;, score=0.738 total time=  20.1s\n"
     ]
    },
    {
     "name": "stderr",
     "output_type": "stream",
     "text": [
      "C:\\Users\\deeks\\anaconda3\\lib\\site-packages\\xgboost\\sklearn.py:1146: UserWarning: The use of label encoder in XGBClassifier is deprecated and will be removed in a future release. To remove this warning, do the following: 1) Pass option use_label_encoder=False when constructing XGBClassifier object; and 2) Encode your labels (y) as integers starting with 0, i.e. 0, 1, 2, ..., [num_class - 1].\n",
      "  warnings.warn(label_encoder_deprecation_msg, UserWarning)\n",
      "C:\\Users\\deeks\\anaconda3\\lib\\site-packages\\sklearn\\utils\\validation.py:63: DataConversionWarning: A column-vector y was passed when a 1d array was expected. Please change the shape of y to (n_samples, ), for example using ravel().\n",
      "  return f(*args, **kwargs)\n"
     ]
    },
    {
     "name": "stdout",
     "output_type": "stream",
     "text": [
      "[16:24:11] WARNING: C:/Users/Administrator/workspace/xgboost-win64_release_1.4.0/src/learner.cc:1095: Starting in XGBoost 1.3.0, the default evaluation metric used with the objective 'multi:softprob' was changed from 'merror' to 'mlogloss'. Explicitly set eval_metric if you'd like to restore the old behavior.\n",
      "[CV 2/5] END learning_rate=0.5, max_depth=20, n_estimators=100;, score=0.749 total time=  23.9s\n"
     ]
    },
    {
     "name": "stderr",
     "output_type": "stream",
     "text": [
      "C:\\Users\\deeks\\anaconda3\\lib\\site-packages\\xgboost\\sklearn.py:1146: UserWarning: The use of label encoder in XGBClassifier is deprecated and will be removed in a future release. To remove this warning, do the following: 1) Pass option use_label_encoder=False when constructing XGBClassifier object; and 2) Encode your labels (y) as integers starting with 0, i.e. 0, 1, 2, ..., [num_class - 1].\n",
      "  warnings.warn(label_encoder_deprecation_msg, UserWarning)\n",
      "C:\\Users\\deeks\\anaconda3\\lib\\site-packages\\sklearn\\utils\\validation.py:63: DataConversionWarning: A column-vector y was passed when a 1d array was expected. Please change the shape of y to (n_samples, ), for example using ravel().\n",
      "  return f(*args, **kwargs)\n"
     ]
    },
    {
     "name": "stdout",
     "output_type": "stream",
     "text": [
      "[16:24:35] WARNING: C:/Users/Administrator/workspace/xgboost-win64_release_1.4.0/src/learner.cc:1095: Starting in XGBoost 1.3.0, the default evaluation metric used with the objective 'multi:softprob' was changed from 'merror' to 'mlogloss'. Explicitly set eval_metric if you'd like to restore the old behavior.\n",
      "[CV 3/5] END learning_rate=0.5, max_depth=20, n_estimators=100;, score=0.752 total time=  23.3s\n"
     ]
    },
    {
     "name": "stderr",
     "output_type": "stream",
     "text": [
      "C:\\Users\\deeks\\anaconda3\\lib\\site-packages\\xgboost\\sklearn.py:1146: UserWarning: The use of label encoder in XGBClassifier is deprecated and will be removed in a future release. To remove this warning, do the following: 1) Pass option use_label_encoder=False when constructing XGBClassifier object; and 2) Encode your labels (y) as integers starting with 0, i.e. 0, 1, 2, ..., [num_class - 1].\n",
      "  warnings.warn(label_encoder_deprecation_msg, UserWarning)\n",
      "C:\\Users\\deeks\\anaconda3\\lib\\site-packages\\sklearn\\utils\\validation.py:63: DataConversionWarning: A column-vector y was passed when a 1d array was expected. Please change the shape of y to (n_samples, ), for example using ravel().\n",
      "  return f(*args, **kwargs)\n"
     ]
    },
    {
     "name": "stdout",
     "output_type": "stream",
     "text": [
      "[16:24:59] WARNING: C:/Users/Administrator/workspace/xgboost-win64_release_1.4.0/src/learner.cc:1095: Starting in XGBoost 1.3.0, the default evaluation metric used with the objective 'multi:softprob' was changed from 'merror' to 'mlogloss'. Explicitly set eval_metric if you'd like to restore the old behavior.\n",
      "[CV 4/5] END learning_rate=0.5, max_depth=20, n_estimators=100;, score=0.751 total time=  24.2s\n"
     ]
    },
    {
     "name": "stderr",
     "output_type": "stream",
     "text": [
      "C:\\Users\\deeks\\anaconda3\\lib\\site-packages\\xgboost\\sklearn.py:1146: UserWarning: The use of label encoder in XGBClassifier is deprecated and will be removed in a future release. To remove this warning, do the following: 1) Pass option use_label_encoder=False when constructing XGBClassifier object; and 2) Encode your labels (y) as integers starting with 0, i.e. 0, 1, 2, ..., [num_class - 1].\n",
      "  warnings.warn(label_encoder_deprecation_msg, UserWarning)\n",
      "C:\\Users\\deeks\\anaconda3\\lib\\site-packages\\sklearn\\utils\\validation.py:63: DataConversionWarning: A column-vector y was passed when a 1d array was expected. Please change the shape of y to (n_samples, ), for example using ravel().\n",
      "  return f(*args, **kwargs)\n"
     ]
    },
    {
     "name": "stdout",
     "output_type": "stream",
     "text": [
      "[16:25:23] WARNING: C:/Users/Administrator/workspace/xgboost-win64_release_1.4.0/src/learner.cc:1095: Starting in XGBoost 1.3.0, the default evaluation metric used with the objective 'multi:softprob' was changed from 'merror' to 'mlogloss'. Explicitly set eval_metric if you'd like to restore the old behavior.\n",
      "[CV 5/5] END learning_rate=0.5, max_depth=20, n_estimators=100;, score=0.750 total time=  24.3s\n",
      "[16:25:47] WARNING: C:/Users/Administrator/workspace/xgboost-win64_release_1.4.0/src/learner.cc:1095: Starting in XGBoost 1.3.0, the default evaluation metric used with the objective 'multi:softprob' was changed from 'merror' to 'mlogloss'. Explicitly set eval_metric if you'd like to restore the old behavior.\n"
     ]
    },
    {
     "name": "stderr",
     "output_type": "stream",
     "text": [
      "C:\\Users\\deeks\\anaconda3\\lib\\site-packages\\xgboost\\sklearn.py:1146: UserWarning: The use of label encoder in XGBClassifier is deprecated and will be removed in a future release. To remove this warning, do the following: 1) Pass option use_label_encoder=False when constructing XGBClassifier object; and 2) Encode your labels (y) as integers starting with 0, i.e. 0, 1, 2, ..., [num_class - 1].\n",
      "  warnings.warn(label_encoder_deprecation_msg, UserWarning)\n",
      "C:\\Users\\deeks\\anaconda3\\lib\\site-packages\\sklearn\\utils\\validation.py:63: DataConversionWarning: A column-vector y was passed when a 1d array was expected. Please change the shape of y to (n_samples, ), for example using ravel().\n",
      "  return f(*args, **kwargs)\n"
     ]
    },
    {
     "name": "stdout",
     "output_type": "stream",
     "text": [
      "[CV 1/5] END learning_rate=0.01, max_depth=3, n_estimators=100;, score=0.683 total time=   5.1s\n",
      "[16:25:52] WARNING: C:/Users/Administrator/workspace/xgboost-win64_release_1.4.0/src/learner.cc:1095: Starting in XGBoost 1.3.0, the default evaluation metric used with the objective 'multi:softprob' was changed from 'merror' to 'mlogloss'. Explicitly set eval_metric if you'd like to restore the old behavior.\n"
     ]
    },
    {
     "name": "stderr",
     "output_type": "stream",
     "text": [
      "C:\\Users\\deeks\\anaconda3\\lib\\site-packages\\xgboost\\sklearn.py:1146: UserWarning: The use of label encoder in XGBClassifier is deprecated and will be removed in a future release. To remove this warning, do the following: 1) Pass option use_label_encoder=False when constructing XGBClassifier object; and 2) Encode your labels (y) as integers starting with 0, i.e. 0, 1, 2, ..., [num_class - 1].\n",
      "  warnings.warn(label_encoder_deprecation_msg, UserWarning)\n",
      "C:\\Users\\deeks\\anaconda3\\lib\\site-packages\\sklearn\\utils\\validation.py:63: DataConversionWarning: A column-vector y was passed when a 1d array was expected. Please change the shape of y to (n_samples, ), for example using ravel().\n",
      "  return f(*args, **kwargs)\n"
     ]
    },
    {
     "name": "stdout",
     "output_type": "stream",
     "text": [
      "[CV 2/5] END learning_rate=0.01, max_depth=3, n_estimators=100;, score=0.673 total time=   5.0s\n",
      "[16:25:57] WARNING: C:/Users/Administrator/workspace/xgboost-win64_release_1.4.0/src/learner.cc:1095: Starting in XGBoost 1.3.0, the default evaluation metric used with the objective 'multi:softprob' was changed from 'merror' to 'mlogloss'. Explicitly set eval_metric if you'd like to restore the old behavior.\n"
     ]
    },
    {
     "name": "stderr",
     "output_type": "stream",
     "text": [
      "C:\\Users\\deeks\\anaconda3\\lib\\site-packages\\xgboost\\sklearn.py:1146: UserWarning: The use of label encoder in XGBClassifier is deprecated and will be removed in a future release. To remove this warning, do the following: 1) Pass option use_label_encoder=False when constructing XGBClassifier object; and 2) Encode your labels (y) as integers starting with 0, i.e. 0, 1, 2, ..., [num_class - 1].\n",
      "  warnings.warn(label_encoder_deprecation_msg, UserWarning)\n",
      "C:\\Users\\deeks\\anaconda3\\lib\\site-packages\\sklearn\\utils\\validation.py:63: DataConversionWarning: A column-vector y was passed when a 1d array was expected. Please change the shape of y to (n_samples, ), for example using ravel().\n",
      "  return f(*args, **kwargs)\n"
     ]
    },
    {
     "name": "stdout",
     "output_type": "stream",
     "text": [
      "[CV 3/5] END learning_rate=0.01, max_depth=3, n_estimators=100;, score=0.685 total time=   5.1s\n",
      "[16:26:03] WARNING: C:/Users/Administrator/workspace/xgboost-win64_release_1.4.0/src/learner.cc:1095: Starting in XGBoost 1.3.0, the default evaluation metric used with the objective 'multi:softprob' was changed from 'merror' to 'mlogloss'. Explicitly set eval_metric if you'd like to restore the old behavior.\n"
     ]
    },
    {
     "name": "stderr",
     "output_type": "stream",
     "text": [
      "C:\\Users\\deeks\\anaconda3\\lib\\site-packages\\xgboost\\sklearn.py:1146: UserWarning: The use of label encoder in XGBClassifier is deprecated and will be removed in a future release. To remove this warning, do the following: 1) Pass option use_label_encoder=False when constructing XGBClassifier object; and 2) Encode your labels (y) as integers starting with 0, i.e. 0, 1, 2, ..., [num_class - 1].\n",
      "  warnings.warn(label_encoder_deprecation_msg, UserWarning)\n",
      "C:\\Users\\deeks\\anaconda3\\lib\\site-packages\\sklearn\\utils\\validation.py:63: DataConversionWarning: A column-vector y was passed when a 1d array was expected. Please change the shape of y to (n_samples, ), for example using ravel().\n",
      "  return f(*args, **kwargs)\n"
     ]
    },
    {
     "name": "stdout",
     "output_type": "stream",
     "text": [
      "[CV 4/5] END learning_rate=0.01, max_depth=3, n_estimators=100;, score=0.687 total time=   5.1s\n",
      "[16:26:08] WARNING: C:/Users/Administrator/workspace/xgboost-win64_release_1.4.0/src/learner.cc:1095: Starting in XGBoost 1.3.0, the default evaluation metric used with the objective 'multi:softprob' was changed from 'merror' to 'mlogloss'. Explicitly set eval_metric if you'd like to restore the old behavior.\n"
     ]
    },
    {
     "name": "stderr",
     "output_type": "stream",
     "text": [
      "C:\\Users\\deeks\\anaconda3\\lib\\site-packages\\xgboost\\sklearn.py:1146: UserWarning: The use of label encoder in XGBClassifier is deprecated and will be removed in a future release. To remove this warning, do the following: 1) Pass option use_label_encoder=False when constructing XGBClassifier object; and 2) Encode your labels (y) as integers starting with 0, i.e. 0, 1, 2, ..., [num_class - 1].\n",
      "  warnings.warn(label_encoder_deprecation_msg, UserWarning)\n",
      "C:\\Users\\deeks\\anaconda3\\lib\\site-packages\\sklearn\\utils\\validation.py:63: DataConversionWarning: A column-vector y was passed when a 1d array was expected. Please change the shape of y to (n_samples, ), for example using ravel().\n",
      "  return f(*args, **kwargs)\n"
     ]
    },
    {
     "name": "stdout",
     "output_type": "stream",
     "text": [
      "[CV 5/5] END learning_rate=0.01, max_depth=3, n_estimators=100;, score=0.686 total time=   5.2s\n",
      "[16:26:13] WARNING: C:/Users/Administrator/workspace/xgboost-win64_release_1.4.0/src/learner.cc:1095: Starting in XGBoost 1.3.0, the default evaluation metric used with the objective 'multi:softprob' was changed from 'merror' to 'mlogloss'. Explicitly set eval_metric if you'd like to restore the old behavior.\n"
     ]
    },
    {
     "name": "stderr",
     "output_type": "stream",
     "text": [
      "C:\\Users\\deeks\\anaconda3\\lib\\site-packages\\xgboost\\sklearn.py:1146: UserWarning: The use of label encoder in XGBClassifier is deprecated and will be removed in a future release. To remove this warning, do the following: 1) Pass option use_label_encoder=False when constructing XGBClassifier object; and 2) Encode your labels (y) as integers starting with 0, i.e. 0, 1, 2, ..., [num_class - 1].\n",
      "  warnings.warn(label_encoder_deprecation_msg, UserWarning)\n",
      "C:\\Users\\deeks\\anaconda3\\lib\\site-packages\\sklearn\\utils\\validation.py:63: DataConversionWarning: A column-vector y was passed when a 1d array was expected. Please change the shape of y to (n_samples, ), for example using ravel().\n",
      "  return f(*args, **kwargs)\n"
     ]
    },
    {
     "name": "stdout",
     "output_type": "stream",
     "text": [
      "[CV 1/5] END learning_rate=0.01, max_depth=3, n_estimators=10;, score=0.684 total time=   0.5s\n",
      "[16:26:14] WARNING: C:/Users/Administrator/workspace/xgboost-win64_release_1.4.0/src/learner.cc:1095: Starting in XGBoost 1.3.0, the default evaluation metric used with the objective 'multi:softprob' was changed from 'merror' to 'mlogloss'. Explicitly set eval_metric if you'd like to restore the old behavior.\n"
     ]
    },
    {
     "name": "stderr",
     "output_type": "stream",
     "text": [
      "C:\\Users\\deeks\\anaconda3\\lib\\site-packages\\xgboost\\sklearn.py:1146: UserWarning: The use of label encoder in XGBClassifier is deprecated and will be removed in a future release. To remove this warning, do the following: 1) Pass option use_label_encoder=False when constructing XGBClassifier object; and 2) Encode your labels (y) as integers starting with 0, i.e. 0, 1, 2, ..., [num_class - 1].\n",
      "  warnings.warn(label_encoder_deprecation_msg, UserWarning)\n",
      "C:\\Users\\deeks\\anaconda3\\lib\\site-packages\\sklearn\\utils\\validation.py:63: DataConversionWarning: A column-vector y was passed when a 1d array was expected. Please change the shape of y to (n_samples, ), for example using ravel().\n",
      "  return f(*args, **kwargs)\n"
     ]
    },
    {
     "name": "stdout",
     "output_type": "stream",
     "text": [
      "[CV 2/5] END learning_rate=0.01, max_depth=3, n_estimators=10;, score=0.676 total time=   0.5s\n",
      "[16:26:14] WARNING: C:/Users/Administrator/workspace/xgboost-win64_release_1.4.0/src/learner.cc:1095: Starting in XGBoost 1.3.0, the default evaluation metric used with the objective 'multi:softprob' was changed from 'merror' to 'mlogloss'. Explicitly set eval_metric if you'd like to restore the old behavior.\n"
     ]
    },
    {
     "name": "stderr",
     "output_type": "stream",
     "text": [
      "C:\\Users\\deeks\\anaconda3\\lib\\site-packages\\xgboost\\sklearn.py:1146: UserWarning: The use of label encoder in XGBClassifier is deprecated and will be removed in a future release. To remove this warning, do the following: 1) Pass option use_label_encoder=False when constructing XGBClassifier object; and 2) Encode your labels (y) as integers starting with 0, i.e. 0, 1, 2, ..., [num_class - 1].\n",
      "  warnings.warn(label_encoder_deprecation_msg, UserWarning)\n",
      "C:\\Users\\deeks\\anaconda3\\lib\\site-packages\\sklearn\\utils\\validation.py:63: DataConversionWarning: A column-vector y was passed when a 1d array was expected. Please change the shape of y to (n_samples, ), for example using ravel().\n",
      "  return f(*args, **kwargs)\n"
     ]
    },
    {
     "name": "stdout",
     "output_type": "stream",
     "text": [
      "[CV 3/5] END learning_rate=0.01, max_depth=3, n_estimators=10;, score=0.696 total time=   0.5s\n",
      "[16:26:15] WARNING: C:/Users/Administrator/workspace/xgboost-win64_release_1.4.0/src/learner.cc:1095: Starting in XGBoost 1.3.0, the default evaluation metric used with the objective 'multi:softprob' was changed from 'merror' to 'mlogloss'. Explicitly set eval_metric if you'd like to restore the old behavior.\n"
     ]
    },
    {
     "name": "stderr",
     "output_type": "stream",
     "text": [
      "C:\\Users\\deeks\\anaconda3\\lib\\site-packages\\xgboost\\sklearn.py:1146: UserWarning: The use of label encoder in XGBClassifier is deprecated and will be removed in a future release. To remove this warning, do the following: 1) Pass option use_label_encoder=False when constructing XGBClassifier object; and 2) Encode your labels (y) as integers starting with 0, i.e. 0, 1, 2, ..., [num_class - 1].\n",
      "  warnings.warn(label_encoder_deprecation_msg, UserWarning)\n",
      "C:\\Users\\deeks\\anaconda3\\lib\\site-packages\\sklearn\\utils\\validation.py:63: DataConversionWarning: A column-vector y was passed when a 1d array was expected. Please change the shape of y to (n_samples, ), for example using ravel().\n",
      "  return f(*args, **kwargs)\n"
     ]
    },
    {
     "name": "stdout",
     "output_type": "stream",
     "text": [
      "[CV 4/5] END learning_rate=0.01, max_depth=3, n_estimators=10;, score=0.664 total time=   0.5s\n",
      "[16:26:15] WARNING: C:/Users/Administrator/workspace/xgboost-win64_release_1.4.0/src/learner.cc:1095: Starting in XGBoost 1.3.0, the default evaluation metric used with the objective 'multi:softprob' was changed from 'merror' to 'mlogloss'. Explicitly set eval_metric if you'd like to restore the old behavior.\n"
     ]
    },
    {
     "name": "stderr",
     "output_type": "stream",
     "text": [
      "C:\\Users\\deeks\\anaconda3\\lib\\site-packages\\xgboost\\sklearn.py:1146: UserWarning: The use of label encoder in XGBClassifier is deprecated and will be removed in a future release. To remove this warning, do the following: 1) Pass option use_label_encoder=False when constructing XGBClassifier object; and 2) Encode your labels (y) as integers starting with 0, i.e. 0, 1, 2, ..., [num_class - 1].\n",
      "  warnings.warn(label_encoder_deprecation_msg, UserWarning)\n",
      "C:\\Users\\deeks\\anaconda3\\lib\\site-packages\\sklearn\\utils\\validation.py:63: DataConversionWarning: A column-vector y was passed when a 1d array was expected. Please change the shape of y to (n_samples, ), for example using ravel().\n",
      "  return f(*args, **kwargs)\n"
     ]
    },
    {
     "name": "stdout",
     "output_type": "stream",
     "text": [
      "[CV 5/5] END learning_rate=0.01, max_depth=3, n_estimators=10;, score=0.679 total time=   0.5s\n",
      "[16:26:16] WARNING: C:/Users/Administrator/workspace/xgboost-win64_release_1.4.0/src/learner.cc:1095: Starting in XGBoost 1.3.0, the default evaluation metric used with the objective 'multi:softprob' was changed from 'merror' to 'mlogloss'. Explicitly set eval_metric if you'd like to restore the old behavior.\n"
     ]
    },
    {
     "name": "stderr",
     "output_type": "stream",
     "text": [
      "C:\\Users\\deeks\\anaconda3\\lib\\site-packages\\xgboost\\sklearn.py:1146: UserWarning: The use of label encoder in XGBClassifier is deprecated and will be removed in a future release. To remove this warning, do the following: 1) Pass option use_label_encoder=False when constructing XGBClassifier object; and 2) Encode your labels (y) as integers starting with 0, i.e. 0, 1, 2, ..., [num_class - 1].\n",
      "  warnings.warn(label_encoder_deprecation_msg, UserWarning)\n",
      "C:\\Users\\deeks\\anaconda3\\lib\\site-packages\\sklearn\\utils\\validation.py:63: DataConversionWarning: A column-vector y was passed when a 1d array was expected. Please change the shape of y to (n_samples, ), for example using ravel().\n",
      "  return f(*args, **kwargs)\n"
     ]
    },
    {
     "name": "stdout",
     "output_type": "stream",
     "text": [
      "[CV 1/5] END learning_rate=0.1, max_depth=5, n_estimators=10;, score=0.741 total time=   0.8s\n",
      "[16:26:17] WARNING: C:/Users/Administrator/workspace/xgboost-win64_release_1.4.0/src/learner.cc:1095: Starting in XGBoost 1.3.0, the default evaluation metric used with the objective 'multi:softprob' was changed from 'merror' to 'mlogloss'. Explicitly set eval_metric if you'd like to restore the old behavior.\n"
     ]
    },
    {
     "name": "stderr",
     "output_type": "stream",
     "text": [
      "C:\\Users\\deeks\\anaconda3\\lib\\site-packages\\xgboost\\sklearn.py:1146: UserWarning: The use of label encoder in XGBClassifier is deprecated and will be removed in a future release. To remove this warning, do the following: 1) Pass option use_label_encoder=False when constructing XGBClassifier object; and 2) Encode your labels (y) as integers starting with 0, i.e. 0, 1, 2, ..., [num_class - 1].\n",
      "  warnings.warn(label_encoder_deprecation_msg, UserWarning)\n",
      "C:\\Users\\deeks\\anaconda3\\lib\\site-packages\\sklearn\\utils\\validation.py:63: DataConversionWarning: A column-vector y was passed when a 1d array was expected. Please change the shape of y to (n_samples, ), for example using ravel().\n",
      "  return f(*args, **kwargs)\n"
     ]
    },
    {
     "name": "stdout",
     "output_type": "stream",
     "text": [
      "[CV 2/5] END learning_rate=0.1, max_depth=5, n_estimators=10;, score=0.743 total time=   0.8s\n",
      "[16:26:18] WARNING: C:/Users/Administrator/workspace/xgboost-win64_release_1.4.0/src/learner.cc:1095: Starting in XGBoost 1.3.0, the default evaluation metric used with the objective 'multi:softprob' was changed from 'merror' to 'mlogloss'. Explicitly set eval_metric if you'd like to restore the old behavior.\n"
     ]
    },
    {
     "name": "stderr",
     "output_type": "stream",
     "text": [
      "C:\\Users\\deeks\\anaconda3\\lib\\site-packages\\xgboost\\sklearn.py:1146: UserWarning: The use of label encoder in XGBClassifier is deprecated and will be removed in a future release. To remove this warning, do the following: 1) Pass option use_label_encoder=False when constructing XGBClassifier object; and 2) Encode your labels (y) as integers starting with 0, i.e. 0, 1, 2, ..., [num_class - 1].\n",
      "  warnings.warn(label_encoder_deprecation_msg, UserWarning)\n",
      "C:\\Users\\deeks\\anaconda3\\lib\\site-packages\\sklearn\\utils\\validation.py:63: DataConversionWarning: A column-vector y was passed when a 1d array was expected. Please change the shape of y to (n_samples, ), for example using ravel().\n",
      "  return f(*args, **kwargs)\n"
     ]
    },
    {
     "name": "stdout",
     "output_type": "stream",
     "text": [
      "[CV 3/5] END learning_rate=0.1, max_depth=5, n_estimators=10;, score=0.746 total time=   0.8s\n",
      "[16:26:19] WARNING: C:/Users/Administrator/workspace/xgboost-win64_release_1.4.0/src/learner.cc:1095: Starting in XGBoost 1.3.0, the default evaluation metric used with the objective 'multi:softprob' was changed from 'merror' to 'mlogloss'. Explicitly set eval_metric if you'd like to restore the old behavior.\n"
     ]
    },
    {
     "name": "stderr",
     "output_type": "stream",
     "text": [
      "C:\\Users\\deeks\\anaconda3\\lib\\site-packages\\xgboost\\sklearn.py:1146: UserWarning: The use of label encoder in XGBClassifier is deprecated and will be removed in a future release. To remove this warning, do the following: 1) Pass option use_label_encoder=False when constructing XGBClassifier object; and 2) Encode your labels (y) as integers starting with 0, i.e. 0, 1, 2, ..., [num_class - 1].\n",
      "  warnings.warn(label_encoder_deprecation_msg, UserWarning)\n",
      "C:\\Users\\deeks\\anaconda3\\lib\\site-packages\\sklearn\\utils\\validation.py:63: DataConversionWarning: A column-vector y was passed when a 1d array was expected. Please change the shape of y to (n_samples, ), for example using ravel().\n",
      "  return f(*args, **kwargs)\n"
     ]
    },
    {
     "name": "stdout",
     "output_type": "stream",
     "text": [
      "[CV 4/5] END learning_rate=0.1, max_depth=5, n_estimators=10;, score=0.745 total time=   0.8s\n",
      "[16:26:20] WARNING: C:/Users/Administrator/workspace/xgboost-win64_release_1.4.0/src/learner.cc:1095: Starting in XGBoost 1.3.0, the default evaluation metric used with the objective 'multi:softprob' was changed from 'merror' to 'mlogloss'. Explicitly set eval_metric if you'd like to restore the old behavior.\n"
     ]
    },
    {
     "name": "stderr",
     "output_type": "stream",
     "text": [
      "C:\\Users\\deeks\\anaconda3\\lib\\site-packages\\xgboost\\sklearn.py:1146: UserWarning: The use of label encoder in XGBClassifier is deprecated and will be removed in a future release. To remove this warning, do the following: 1) Pass option use_label_encoder=False when constructing XGBClassifier object; and 2) Encode your labels (y) as integers starting with 0, i.e. 0, 1, 2, ..., [num_class - 1].\n",
      "  warnings.warn(label_encoder_deprecation_msg, UserWarning)\n",
      "C:\\Users\\deeks\\anaconda3\\lib\\site-packages\\sklearn\\utils\\validation.py:63: DataConversionWarning: A column-vector y was passed when a 1d array was expected. Please change the shape of y to (n_samples, ), for example using ravel().\n",
      "  return f(*args, **kwargs)\n"
     ]
    },
    {
     "name": "stdout",
     "output_type": "stream",
     "text": [
      "[CV 5/5] END learning_rate=0.1, max_depth=5, n_estimators=10;, score=0.751 total time=   0.8s\n",
      "[16:26:21] WARNING: C:/Users/Administrator/workspace/xgboost-win64_release_1.4.0/src/learner.cc:1095: Starting in XGBoost 1.3.0, the default evaluation metric used with the objective 'multi:softprob' was changed from 'merror' to 'mlogloss'. Explicitly set eval_metric if you'd like to restore the old behavior."
     ]
    },
    {
     "name": "stderr",
     "output_type": "stream",
     "text": [
      "C:\\Users\\deeks\\anaconda3\\lib\\site-packages\\xgboost\\sklearn.py:1146: UserWarning: The use of label encoder in XGBClassifier is deprecated and will be removed in a future release. To remove this warning, do the following: 1) Pass option use_label_encoder=False when constructing XGBClassifier object; and 2) Encode your labels (y) as integers starting with 0, i.e. 0, 1, 2, ..., [num_class - 1].\n",
      "  warnings.warn(label_encoder_deprecation_msg, UserWarning)\n",
      "C:\\Users\\deeks\\anaconda3\\lib\\site-packages\\sklearn\\utils\\validation.py:63: DataConversionWarning: A column-vector y was passed when a 1d array was expected. Please change the shape of y to (n_samples, ), for example using ravel().\n",
      "  return f(*args, **kwargs)\n"
     ]
    },
    {
     "name": "stdout",
     "output_type": "stream",
     "text": [
      "\n",
      "[CV 1/5] END learning_rate=1, max_depth=10, n_estimators=100;, score=0.745 total time=  16.9s\n"
     ]
    },
    {
     "name": "stderr",
     "output_type": "stream",
     "text": [
      "C:\\Users\\deeks\\anaconda3\\lib\\site-packages\\xgboost\\sklearn.py:1146: UserWarning: The use of label encoder in XGBClassifier is deprecated and will be removed in a future release. To remove this warning, do the following: 1) Pass option use_label_encoder=False when constructing XGBClassifier object; and 2) Encode your labels (y) as integers starting with 0, i.e. 0, 1, 2, ..., [num_class - 1].\n",
      "  warnings.warn(label_encoder_deprecation_msg, UserWarning)\n",
      "C:\\Users\\deeks\\anaconda3\\lib\\site-packages\\sklearn\\utils\\validation.py:63: DataConversionWarning: A column-vector y was passed when a 1d array was expected. Please change the shape of y to (n_samples, ), for example using ravel().\n",
      "  return f(*args, **kwargs)\n"
     ]
    },
    {
     "name": "stdout",
     "output_type": "stream",
     "text": [
      "[16:26:38] WARNING: C:/Users/Administrator/workspace/xgboost-win64_release_1.4.0/src/learner.cc:1095: Starting in XGBoost 1.3.0, the default evaluation metric used with the objective 'multi:softprob' was changed from 'merror' to 'mlogloss'. Explicitly set eval_metric if you'd like to restore the old behavior.\n",
      "[CV 2/5] END learning_rate=1, max_depth=10, n_estimators=100;, score=0.749 total time=  17.0s\n",
      "[16:26:55] WARNING: C:/Users/Administrator/workspace/xgboost-win64_release_1.4.0/src/learner.cc:1095: Starting in XGBoost 1.3.0, the default evaluation metric used with the objective 'multi:softprob' was changed from 'merror' to 'mlogloss'. Explicitly set eval_metric if you'd like to restore the old behavior."
     ]
    },
    {
     "name": "stderr",
     "output_type": "stream",
     "text": [
      "C:\\Users\\deeks\\anaconda3\\lib\\site-packages\\xgboost\\sklearn.py:1146: UserWarning: The use of label encoder in XGBClassifier is deprecated and will be removed in a future release. To remove this warning, do the following: 1) Pass option use_label_encoder=False when constructing XGBClassifier object; and 2) Encode your labels (y) as integers starting with 0, i.e. 0, 1, 2, ..., [num_class - 1].\n",
      "  warnings.warn(label_encoder_deprecation_msg, UserWarning)\n",
      "C:\\Users\\deeks\\anaconda3\\lib\\site-packages\\sklearn\\utils\\validation.py:63: DataConversionWarning: A column-vector y was passed when a 1d array was expected. Please change the shape of y to (n_samples, ), for example using ravel().\n",
      "  return f(*args, **kwargs)\n"
     ]
    },
    {
     "name": "stdout",
     "output_type": "stream",
     "text": [
      "\n",
      "[CV 3/5] END learning_rate=1, max_depth=10, n_estimators=100;, score=0.751 total time=  17.0s\n"
     ]
    },
    {
     "name": "stderr",
     "output_type": "stream",
     "text": [
      "C:\\Users\\deeks\\anaconda3\\lib\\site-packages\\xgboost\\sklearn.py:1146: UserWarning: The use of label encoder in XGBClassifier is deprecated and will be removed in a future release. To remove this warning, do the following: 1) Pass option use_label_encoder=False when constructing XGBClassifier object; and 2) Encode your labels (y) as integers starting with 0, i.e. 0, 1, 2, ..., [num_class - 1].\n",
      "  warnings.warn(label_encoder_deprecation_msg, UserWarning)\n",
      "C:\\Users\\deeks\\anaconda3\\lib\\site-packages\\sklearn\\utils\\validation.py:63: DataConversionWarning: A column-vector y was passed when a 1d array was expected. Please change the shape of y to (n_samples, ), for example using ravel().\n",
      "  return f(*args, **kwargs)\n"
     ]
    },
    {
     "name": "stdout",
     "output_type": "stream",
     "text": [
      "[16:27:12] WARNING: C:/Users/Administrator/workspace/xgboost-win64_release_1.4.0/src/learner.cc:1095: Starting in XGBoost 1.3.0, the default evaluation metric used with the objective 'multi:softprob' was changed from 'merror' to 'mlogloss'. Explicitly set eval_metric if you'd like to restore the old behavior.\n",
      "[CV 4/5] END learning_rate=1, max_depth=10, n_estimators=100;, score=0.743 total time=  19.4s\n",
      "[16:27:32] WARNING: C:/Users/Administrator/workspace/xgboost-win64_release_1.4.0/src/learner.cc:1095: Starting in XGBoost 1.3.0, the default evaluation metric used with the objective 'multi:softprob' was changed from 'merror' to 'mlogloss'. Explicitly set eval_metric if you'd like to restore the old behavior."
     ]
    },
    {
     "name": "stderr",
     "output_type": "stream",
     "text": [
      "C:\\Users\\deeks\\anaconda3\\lib\\site-packages\\xgboost\\sklearn.py:1146: UserWarning: The use of label encoder in XGBClassifier is deprecated and will be removed in a future release. To remove this warning, do the following: 1) Pass option use_label_encoder=False when constructing XGBClassifier object; and 2) Encode your labels (y) as integers starting with 0, i.e. 0, 1, 2, ..., [num_class - 1].\n",
      "  warnings.warn(label_encoder_deprecation_msg, UserWarning)\n",
      "C:\\Users\\deeks\\anaconda3\\lib\\site-packages\\sklearn\\utils\\validation.py:63: DataConversionWarning: A column-vector y was passed when a 1d array was expected. Please change the shape of y to (n_samples, ), for example using ravel().\n",
      "  return f(*args, **kwargs)\n"
     ]
    },
    {
     "name": "stdout",
     "output_type": "stream",
     "text": [
      "\n",
      "[CV 5/5] END learning_rate=1, max_depth=10, n_estimators=100;, score=0.752 total time=  18.7s\n",
      "[16:27:50] WARNING: C:/Users/Administrator/workspace/xgboost-win64_release_1.4.0/src/learner.cc:1095: Starting in XGBoost 1.3.0, the default evaluation metric used with the objective 'multi:softprob' was changed from 'merror' to 'mlogloss'. Explicitly set eval_metric if you'd like to restore the old behavior.\n"
     ]
    },
    {
     "name": "stderr",
     "output_type": "stream",
     "text": [
      "C:\\Users\\deeks\\anaconda3\\lib\\site-packages\\xgboost\\sklearn.py:1146: UserWarning: The use of label encoder in XGBClassifier is deprecated and will be removed in a future release. To remove this warning, do the following: 1) Pass option use_label_encoder=False when constructing XGBClassifier object; and 2) Encode your labels (y) as integers starting with 0, i.e. 0, 1, 2, ..., [num_class - 1].\n",
      "  warnings.warn(label_encoder_deprecation_msg, UserWarning)\n",
      "C:\\Users\\deeks\\anaconda3\\lib\\site-packages\\sklearn\\utils\\validation.py:63: DataConversionWarning: A column-vector y was passed when a 1d array was expected. Please change the shape of y to (n_samples, ), for example using ravel().\n",
      "  return f(*args, **kwargs)\n"
     ]
    },
    {
     "name": "stdout",
     "output_type": "stream",
     "text": [
      "[CV 1/5] END learning_rate=0.1, max_depth=3, n_estimators=50;, score=0.748 total time=   2.6s\n",
      "[16:27:53] WARNING: C:/Users/Administrator/workspace/xgboost-win64_release_1.4.0/src/learner.cc:1095: Starting in XGBoost 1.3.0, the default evaluation metric used with the objective 'multi:softprob' was changed from 'merror' to 'mlogloss'. Explicitly set eval_metric if you'd like to restore the old behavior.\n"
     ]
    },
    {
     "name": "stderr",
     "output_type": "stream",
     "text": [
      "C:\\Users\\deeks\\anaconda3\\lib\\site-packages\\xgboost\\sklearn.py:1146: UserWarning: The use of label encoder in XGBClassifier is deprecated and will be removed in a future release. To remove this warning, do the following: 1) Pass option use_label_encoder=False when constructing XGBClassifier object; and 2) Encode your labels (y) as integers starting with 0, i.e. 0, 1, 2, ..., [num_class - 1].\n",
      "  warnings.warn(label_encoder_deprecation_msg, UserWarning)\n",
      "C:\\Users\\deeks\\anaconda3\\lib\\site-packages\\sklearn\\utils\\validation.py:63: DataConversionWarning: A column-vector y was passed when a 1d array was expected. Please change the shape of y to (n_samples, ), for example using ravel().\n",
      "  return f(*args, **kwargs)\n"
     ]
    },
    {
     "name": "stdout",
     "output_type": "stream",
     "text": [
      "[CV 2/5] END learning_rate=0.1, max_depth=3, n_estimators=50;, score=0.745 total time=   2.6s\n",
      "[16:27:56] WARNING: C:/Users/Administrator/workspace/xgboost-win64_release_1.4.0/src/learner.cc:1095: Starting in XGBoost 1.3.0, the default evaluation metric used with the objective 'multi:softprob' was changed from 'merror' to 'mlogloss'. Explicitly set eval_metric if you'd like to restore the old behavior.\n"
     ]
    },
    {
     "name": "stderr",
     "output_type": "stream",
     "text": [
      "C:\\Users\\deeks\\anaconda3\\lib\\site-packages\\xgboost\\sklearn.py:1146: UserWarning: The use of label encoder in XGBClassifier is deprecated and will be removed in a future release. To remove this warning, do the following: 1) Pass option use_label_encoder=False when constructing XGBClassifier object; and 2) Encode your labels (y) as integers starting with 0, i.e. 0, 1, 2, ..., [num_class - 1].\n",
      "  warnings.warn(label_encoder_deprecation_msg, UserWarning)\n",
      "C:\\Users\\deeks\\anaconda3\\lib\\site-packages\\sklearn\\utils\\validation.py:63: DataConversionWarning: A column-vector y was passed when a 1d array was expected. Please change the shape of y to (n_samples, ), for example using ravel().\n",
      "  return f(*args, **kwargs)\n"
     ]
    },
    {
     "name": "stdout",
     "output_type": "stream",
     "text": [
      "[CV 3/5] END learning_rate=0.1, max_depth=3, n_estimators=50;, score=0.744 total time=   2.7s\n",
      "[16:27:58] WARNING: C:/Users/Administrator/workspace/xgboost-win64_release_1.4.0/src/learner.cc:1095: Starting in XGBoost 1.3.0, the default evaluation metric used with the objective 'multi:softprob' was changed from 'merror' to 'mlogloss'. Explicitly set eval_metric if you'd like to restore the old behavior.\n"
     ]
    },
    {
     "name": "stderr",
     "output_type": "stream",
     "text": [
      "C:\\Users\\deeks\\anaconda3\\lib\\site-packages\\xgboost\\sklearn.py:1146: UserWarning: The use of label encoder in XGBClassifier is deprecated and will be removed in a future release. To remove this warning, do the following: 1) Pass option use_label_encoder=False when constructing XGBClassifier object; and 2) Encode your labels (y) as integers starting with 0, i.e. 0, 1, 2, ..., [num_class - 1].\n",
      "  warnings.warn(label_encoder_deprecation_msg, UserWarning)\n",
      "C:\\Users\\deeks\\anaconda3\\lib\\site-packages\\sklearn\\utils\\validation.py:63: DataConversionWarning: A column-vector y was passed when a 1d array was expected. Please change the shape of y to (n_samples, ), for example using ravel().\n",
      "  return f(*args, **kwargs)\n"
     ]
    },
    {
     "name": "stdout",
     "output_type": "stream",
     "text": [
      "[CV 4/5] END learning_rate=0.1, max_depth=3, n_estimators=50;, score=0.747 total time=   2.9s\n",
      "[16:28:02] WARNING: C:/Users/Administrator/workspace/xgboost-win64_release_1.4.0/src/learner.cc:1095: Starting in XGBoost 1.3.0, the default evaluation metric used with the objective 'multi:softprob' was changed from 'merror' to 'mlogloss'. Explicitly set eval_metric if you'd like to restore the old behavior.\n"
     ]
    },
    {
     "name": "stderr",
     "output_type": "stream",
     "text": [
      "C:\\Users\\deeks\\anaconda3\\lib\\site-packages\\xgboost\\sklearn.py:1146: UserWarning: The use of label encoder in XGBClassifier is deprecated and will be removed in a future release. To remove this warning, do the following: 1) Pass option use_label_encoder=False when constructing XGBClassifier object; and 2) Encode your labels (y) as integers starting with 0, i.e. 0, 1, 2, ..., [num_class - 1].\n",
      "  warnings.warn(label_encoder_deprecation_msg, UserWarning)\n",
      "C:\\Users\\deeks\\anaconda3\\lib\\site-packages\\sklearn\\utils\\validation.py:63: DataConversionWarning: A column-vector y was passed when a 1d array was expected. Please change the shape of y to (n_samples, ), for example using ravel().\n",
      "  return f(*args, **kwargs)\n"
     ]
    },
    {
     "name": "stdout",
     "output_type": "stream",
     "text": [
      "[CV 5/5] END learning_rate=0.1, max_depth=3, n_estimators=50;, score=0.751 total time=   2.7s\n"
     ]
    },
    {
     "name": "stderr",
     "output_type": "stream",
     "text": [
      "C:\\Users\\deeks\\anaconda3\\lib\\site-packages\\xgboost\\sklearn.py:1146: UserWarning: The use of label encoder in XGBClassifier is deprecated and will be removed in a future release. To remove this warning, do the following: 1) Pass option use_label_encoder=False when constructing XGBClassifier object; and 2) Encode your labels (y) as integers starting with 0, i.e. 0, 1, 2, ..., [num_class - 1].\n",
      "  warnings.warn(label_encoder_deprecation_msg, UserWarning)\n",
      "C:\\Users\\deeks\\anaconda3\\lib\\site-packages\\sklearn\\utils\\validation.py:63: DataConversionWarning: A column-vector y was passed when a 1d array was expected. Please change the shape of y to (n_samples, ), for example using ravel().\n",
      "  return f(*args, **kwargs)\n"
     ]
    },
    {
     "name": "stdout",
     "output_type": "stream",
     "text": [
      "[16:28:05] WARNING: C:/Users/Administrator/workspace/xgboost-win64_release_1.4.0/src/learner.cc:1095: Starting in XGBoost 1.3.0, the default evaluation metric used with the objective 'multi:softprob' was changed from 'merror' to 'mlogloss'. Explicitly set eval_metric if you'd like to restore the old behavior.\n",
      "[CV 1/5] END learning_rate=0.01, max_depth=20, n_estimators=100;, score=0.744 total time=  39.1s\n"
     ]
    },
    {
     "name": "stderr",
     "output_type": "stream",
     "text": [
      "C:\\Users\\deeks\\anaconda3\\lib\\site-packages\\xgboost\\sklearn.py:1146: UserWarning: The use of label encoder in XGBClassifier is deprecated and will be removed in a future release. To remove this warning, do the following: 1) Pass option use_label_encoder=False when constructing XGBClassifier object; and 2) Encode your labels (y) as integers starting with 0, i.e. 0, 1, 2, ..., [num_class - 1].\n",
      "  warnings.warn(label_encoder_deprecation_msg, UserWarning)\n",
      "C:\\Users\\deeks\\anaconda3\\lib\\site-packages\\sklearn\\utils\\validation.py:63: DataConversionWarning: A column-vector y was passed when a 1d array was expected. Please change the shape of y to (n_samples, ), for example using ravel().\n",
      "  return f(*args, **kwargs)\n"
     ]
    },
    {
     "name": "stdout",
     "output_type": "stream",
     "text": [
      "[16:28:44] WARNING: C:/Users/Administrator/workspace/xgboost-win64_release_1.4.0/src/learner.cc:1095: Starting in XGBoost 1.3.0, the default evaluation metric used with the objective 'multi:softprob' was changed from 'merror' to 'mlogloss'. Explicitly set eval_metric if you'd like to restore the old behavior.\n",
      "[CV 2/5] END learning_rate=0.01, max_depth=20, n_estimators=100;, score=0.746 total time=  37.6s\n"
     ]
    },
    {
     "name": "stderr",
     "output_type": "stream",
     "text": [
      "C:\\Users\\deeks\\anaconda3\\lib\\site-packages\\xgboost\\sklearn.py:1146: UserWarning: The use of label encoder in XGBClassifier is deprecated and will be removed in a future release. To remove this warning, do the following: 1) Pass option use_label_encoder=False when constructing XGBClassifier object; and 2) Encode your labels (y) as integers starting with 0, i.e. 0, 1, 2, ..., [num_class - 1].\n",
      "  warnings.warn(label_encoder_deprecation_msg, UserWarning)\n",
      "C:\\Users\\deeks\\anaconda3\\lib\\site-packages\\sklearn\\utils\\validation.py:63: DataConversionWarning: A column-vector y was passed when a 1d array was expected. Please change the shape of y to (n_samples, ), for example using ravel().\n",
      "  return f(*args, **kwargs)\n"
     ]
    },
    {
     "name": "stdout",
     "output_type": "stream",
     "text": [
      "[16:29:21] WARNING: C:/Users/Administrator/workspace/xgboost-win64_release_1.4.0/src/learner.cc:1095: Starting in XGBoost 1.3.0, the default evaluation metric used with the objective 'multi:softprob' was changed from 'merror' to 'mlogloss'. Explicitly set eval_metric if you'd like to restore the old behavior.\n",
      "[CV 3/5] END learning_rate=0.01, max_depth=20, n_estimators=100;, score=0.746 total time=  36.1s\n"
     ]
    },
    {
     "name": "stderr",
     "output_type": "stream",
     "text": [
      "C:\\Users\\deeks\\anaconda3\\lib\\site-packages\\xgboost\\sklearn.py:1146: UserWarning: The use of label encoder in XGBClassifier is deprecated and will be removed in a future release. To remove this warning, do the following: 1) Pass option use_label_encoder=False when constructing XGBClassifier object; and 2) Encode your labels (y) as integers starting with 0, i.e. 0, 1, 2, ..., [num_class - 1].\n",
      "  warnings.warn(label_encoder_deprecation_msg, UserWarning)\n",
      "C:\\Users\\deeks\\anaconda3\\lib\\site-packages\\sklearn\\utils\\validation.py:63: DataConversionWarning: A column-vector y was passed when a 1d array was expected. Please change the shape of y to (n_samples, ), for example using ravel().\n",
      "  return f(*args, **kwargs)\n"
     ]
    },
    {
     "name": "stdout",
     "output_type": "stream",
     "text": [
      "[16:29:58] WARNING: C:/Users/Administrator/workspace/xgboost-win64_release_1.4.0/src/learner.cc:1095: Starting in XGBoost 1.3.0, the default evaluation metric used with the objective 'multi:softprob' was changed from 'merror' to 'mlogloss'. Explicitly set eval_metric if you'd like to restore the old behavior.\n",
      "[CV 4/5] END learning_rate=0.01, max_depth=20, n_estimators=100;, score=0.744 total time=  41.0s\n"
     ]
    },
    {
     "name": "stderr",
     "output_type": "stream",
     "text": [
      "C:\\Users\\deeks\\anaconda3\\lib\\site-packages\\xgboost\\sklearn.py:1146: UserWarning: The use of label encoder in XGBClassifier is deprecated and will be removed in a future release. To remove this warning, do the following: 1) Pass option use_label_encoder=False when constructing XGBClassifier object; and 2) Encode your labels (y) as integers starting with 0, i.e. 0, 1, 2, ..., [num_class - 1].\n",
      "  warnings.warn(label_encoder_deprecation_msg, UserWarning)\n",
      "C:\\Users\\deeks\\anaconda3\\lib\\site-packages\\sklearn\\utils\\validation.py:63: DataConversionWarning: A column-vector y was passed when a 1d array was expected. Please change the shape of y to (n_samples, ), for example using ravel().\n",
      "  return f(*args, **kwargs)\n"
     ]
    },
    {
     "name": "stdout",
     "output_type": "stream",
     "text": [
      "[16:30:39] WARNING: C:/Users/Administrator/workspace/xgboost-win64_release_1.4.0/src/learner.cc:1095: Starting in XGBoost 1.3.0, the default evaluation metric used with the objective 'multi:softprob' was changed from 'merror' to 'mlogloss'. Explicitly set eval_metric if you'd like to restore the old behavior.\n",
      "[CV 5/5] END learning_rate=0.01, max_depth=20, n_estimators=100;, score=0.760 total time=  42.6s\n"
     ]
    },
    {
     "name": "stderr",
     "output_type": "stream",
     "text": [
      "C:\\Users\\deeks\\anaconda3\\lib\\site-packages\\xgboost\\sklearn.py:1146: UserWarning: The use of label encoder in XGBClassifier is deprecated and will be removed in a future release. To remove this warning, do the following: 1) Pass option use_label_encoder=False when constructing XGBClassifier object; and 2) Encode your labels (y) as integers starting with 0, i.e. 0, 1, 2, ..., [num_class - 1].\n",
      "  warnings.warn(label_encoder_deprecation_msg, UserWarning)\n",
      "C:\\Users\\deeks\\anaconda3\\lib\\site-packages\\sklearn\\utils\\validation.py:63: DataConversionWarning: A column-vector y was passed when a 1d array was expected. Please change the shape of y to (n_samples, ), for example using ravel().\n",
      "  return f(*args, **kwargs)\n"
     ]
    },
    {
     "name": "stdout",
     "output_type": "stream",
     "text": [
      "[16:31:21] WARNING: C:/Users/Administrator/workspace/xgboost-win64_release_1.4.0/src/learner.cc:1095: Starting in XGBoost 1.3.0, the default evaluation metric used with the objective 'multi:softprob' was changed from 'merror' to 'mlogloss'. Explicitly set eval_metric if you'd like to restore the old behavior.\n",
      "[CV 1/5] END learning_rate=0.1, max_depth=20, n_estimators=100;, score=0.743 total time=  36.8s\n"
     ]
    },
    {
     "name": "stderr",
     "output_type": "stream",
     "text": [
      "C:\\Users\\deeks\\anaconda3\\lib\\site-packages\\xgboost\\sklearn.py:1146: UserWarning: The use of label encoder in XGBClassifier is deprecated and will be removed in a future release. To remove this warning, do the following: 1) Pass option use_label_encoder=False when constructing XGBClassifier object; and 2) Encode your labels (y) as integers starting with 0, i.e. 0, 1, 2, ..., [num_class - 1].\n",
      "  warnings.warn(label_encoder_deprecation_msg, UserWarning)\n",
      "C:\\Users\\deeks\\anaconda3\\lib\\site-packages\\sklearn\\utils\\validation.py:63: DataConversionWarning: A column-vector y was passed when a 1d array was expected. Please change the shape of y to (n_samples, ), for example using ravel().\n",
      "  return f(*args, **kwargs)\n"
     ]
    },
    {
     "name": "stdout",
     "output_type": "stream",
     "text": [
      "[16:31:58] WARNING: C:/Users/Administrator/workspace/xgboost-win64_release_1.4.0/src/learner.cc:1095: Starting in XGBoost 1.3.0, the default evaluation metric used with the objective 'multi:softprob' was changed from 'merror' to 'mlogloss'. Explicitly set eval_metric if you'd like to restore the old behavior.\n",
      "[CV 2/5] END learning_rate=0.1, max_depth=20, n_estimators=100;, score=0.752 total time=  42.2s\n"
     ]
    },
    {
     "name": "stderr",
     "output_type": "stream",
     "text": [
      "C:\\Users\\deeks\\anaconda3\\lib\\site-packages\\xgboost\\sklearn.py:1146: UserWarning: The use of label encoder in XGBClassifier is deprecated and will be removed in a future release. To remove this warning, do the following: 1) Pass option use_label_encoder=False when constructing XGBClassifier object; and 2) Encode your labels (y) as integers starting with 0, i.e. 0, 1, 2, ..., [num_class - 1].\n",
      "  warnings.warn(label_encoder_deprecation_msg, UserWarning)\n",
      "C:\\Users\\deeks\\anaconda3\\lib\\site-packages\\sklearn\\utils\\validation.py:63: DataConversionWarning: A column-vector y was passed when a 1d array was expected. Please change the shape of y to (n_samples, ), for example using ravel().\n",
      "  return f(*args, **kwargs)\n"
     ]
    },
    {
     "name": "stdout",
     "output_type": "stream",
     "text": [
      "[16:32:41] WARNING: C:/Users/Administrator/workspace/xgboost-win64_release_1.4.0/src/learner.cc:1095: Starting in XGBoost 1.3.0, the default evaluation metric used with the objective 'multi:softprob' was changed from 'merror' to 'mlogloss'. Explicitly set eval_metric if you'd like to restore the old behavior.\n",
      "[CV 3/5] END learning_rate=0.1, max_depth=20, n_estimators=100;, score=0.751 total time=  40.3s\n"
     ]
    },
    {
     "name": "stderr",
     "output_type": "stream",
     "text": [
      "C:\\Users\\deeks\\anaconda3\\lib\\site-packages\\xgboost\\sklearn.py:1146: UserWarning: The use of label encoder in XGBClassifier is deprecated and will be removed in a future release. To remove this warning, do the following: 1) Pass option use_label_encoder=False when constructing XGBClassifier object; and 2) Encode your labels (y) as integers starting with 0, i.e. 0, 1, 2, ..., [num_class - 1].\n",
      "  warnings.warn(label_encoder_deprecation_msg, UserWarning)\n",
      "C:\\Users\\deeks\\anaconda3\\lib\\site-packages\\sklearn\\utils\\validation.py:63: DataConversionWarning: A column-vector y was passed when a 1d array was expected. Please change the shape of y to (n_samples, ), for example using ravel().\n",
      "  return f(*args, **kwargs)\n"
     ]
    },
    {
     "name": "stdout",
     "output_type": "stream",
     "text": [
      "[16:33:21] WARNING: C:/Users/Administrator/workspace/xgboost-win64_release_1.4.0/src/learner.cc:1095: Starting in XGBoost 1.3.0, the default evaluation metric used with the objective 'multi:softprob' was changed from 'merror' to 'mlogloss'. Explicitly set eval_metric if you'd like to restore the old behavior.\n",
      "[CV 4/5] END learning_rate=0.1, max_depth=20, n_estimators=100;, score=0.758 total time=  37.7s\n"
     ]
    },
    {
     "name": "stderr",
     "output_type": "stream",
     "text": [
      "C:\\Users\\deeks\\anaconda3\\lib\\site-packages\\xgboost\\sklearn.py:1146: UserWarning: The use of label encoder in XGBClassifier is deprecated and will be removed in a future release. To remove this warning, do the following: 1) Pass option use_label_encoder=False when constructing XGBClassifier object; and 2) Encode your labels (y) as integers starting with 0, i.e. 0, 1, 2, ..., [num_class - 1].\n",
      "  warnings.warn(label_encoder_deprecation_msg, UserWarning)\n",
      "C:\\Users\\deeks\\anaconda3\\lib\\site-packages\\sklearn\\utils\\validation.py:63: DataConversionWarning: A column-vector y was passed when a 1d array was expected. Please change the shape of y to (n_samples, ), for example using ravel().\n",
      "  return f(*args, **kwargs)\n"
     ]
    },
    {
     "name": "stdout",
     "output_type": "stream",
     "text": [
      "[16:33:59] WARNING: C:/Users/Administrator/workspace/xgboost-win64_release_1.4.0/src/learner.cc:1095: Starting in XGBoost 1.3.0, the default evaluation metric used with the objective 'multi:softprob' was changed from 'merror' to 'mlogloss'. Explicitly set eval_metric if you'd like to restore the old behavior.\n",
      "[CV 5/5] END learning_rate=0.1, max_depth=20, n_estimators=100;, score=0.758 total time=  42.1s\n",
      "[16:34:41] WARNING: C:/Users/Administrator/workspace/xgboost-win64_release_1.4.0/src/learner.cc:1095: Starting in XGBoost 1.3.0, the default evaluation metric used with the objective 'multi:softprob' was changed from 'merror' to 'mlogloss'. Explicitly set eval_metric if you'd like to restore the old behavior.\n"
     ]
    },
    {
     "name": "stderr",
     "output_type": "stream",
     "text": [
      "C:\\Users\\deeks\\anaconda3\\lib\\site-packages\\xgboost\\sklearn.py:1146: UserWarning: The use of label encoder in XGBClassifier is deprecated and will be removed in a future release. To remove this warning, do the following: 1) Pass option use_label_encoder=False when constructing XGBClassifier object; and 2) Encode your labels (y) as integers starting with 0, i.e. 0, 1, 2, ..., [num_class - 1].\n",
      "  warnings.warn(label_encoder_deprecation_msg, UserWarning)\n",
      "C:\\Users\\deeks\\anaconda3\\lib\\site-packages\\sklearn\\utils\\validation.py:63: DataConversionWarning: A column-vector y was passed when a 1d array was expected. Please change the shape of y to (n_samples, ), for example using ravel().\n",
      "  return f(*args, **kwargs)\n"
     ]
    },
    {
     "name": "stdout",
     "output_type": "stream",
     "text": [
      "[CV 1/5] END learning_rate=1, max_depth=5, n_estimators=50;, score=0.742 total time=   4.7s\n",
      "[16:34:46] WARNING: C:/Users/Administrator/workspace/xgboost-win64_release_1.4.0/src/learner.cc:1095: Starting in XGBoost 1.3.0, the default evaluation metric used with the objective 'multi:softprob' was changed from 'merror' to 'mlogloss'. Explicitly set eval_metric if you'd like to restore the old behavior.\n"
     ]
    },
    {
     "name": "stderr",
     "output_type": "stream",
     "text": [
      "C:\\Users\\deeks\\anaconda3\\lib\\site-packages\\xgboost\\sklearn.py:1146: UserWarning: The use of label encoder in XGBClassifier is deprecated and will be removed in a future release. To remove this warning, do the following: 1) Pass option use_label_encoder=False when constructing XGBClassifier object; and 2) Encode your labels (y) as integers starting with 0, i.e. 0, 1, 2, ..., [num_class - 1].\n",
      "  warnings.warn(label_encoder_deprecation_msg, UserWarning)\n",
      "C:\\Users\\deeks\\anaconda3\\lib\\site-packages\\sklearn\\utils\\validation.py:63: DataConversionWarning: A column-vector y was passed when a 1d array was expected. Please change the shape of y to (n_samples, ), for example using ravel().\n",
      "  return f(*args, **kwargs)\n"
     ]
    },
    {
     "name": "stdout",
     "output_type": "stream",
     "text": [
      "[CV 2/5] END learning_rate=1, max_depth=5, n_estimators=50;, score=0.751 total time=   4.8s\n",
      "[16:34:50] WARNING: C:/Users/Administrator/workspace/xgboost-win64_release_1.4.0/src/learner.cc:1095: Starting in XGBoost 1.3.0, the default evaluation metric used with the objective 'multi:softprob' was changed from 'merror' to 'mlogloss'. Explicitly set eval_metric if you'd like to restore the old behavior.\n"
     ]
    },
    {
     "name": "stderr",
     "output_type": "stream",
     "text": [
      "C:\\Users\\deeks\\anaconda3\\lib\\site-packages\\xgboost\\sklearn.py:1146: UserWarning: The use of label encoder in XGBClassifier is deprecated and will be removed in a future release. To remove this warning, do the following: 1) Pass option use_label_encoder=False when constructing XGBClassifier object; and 2) Encode your labels (y) as integers starting with 0, i.e. 0, 1, 2, ..., [num_class - 1].\n",
      "  warnings.warn(label_encoder_deprecation_msg, UserWarning)\n",
      "C:\\Users\\deeks\\anaconda3\\lib\\site-packages\\sklearn\\utils\\validation.py:63: DataConversionWarning: A column-vector y was passed when a 1d array was expected. Please change the shape of y to (n_samples, ), for example using ravel().\n",
      "  return f(*args, **kwargs)\n"
     ]
    },
    {
     "name": "stdout",
     "output_type": "stream",
     "text": [
      "[CV 3/5] END learning_rate=1, max_depth=5, n_estimators=50;, score=0.748 total time=   4.9s\n",
      "[16:34:55] WARNING: C:/Users/Administrator/workspace/xgboost-win64_release_1.4.0/src/learner.cc:1095: Starting in XGBoost 1.3.0, the default evaluation metric used with the objective 'multi:softprob' was changed from 'merror' to 'mlogloss'. Explicitly set eval_metric if you'd like to restore the old behavior.\n"
     ]
    },
    {
     "name": "stderr",
     "output_type": "stream",
     "text": [
      "C:\\Users\\deeks\\anaconda3\\lib\\site-packages\\xgboost\\sklearn.py:1146: UserWarning: The use of label encoder in XGBClassifier is deprecated and will be removed in a future release. To remove this warning, do the following: 1) Pass option use_label_encoder=False when constructing XGBClassifier object; and 2) Encode your labels (y) as integers starting with 0, i.e. 0, 1, 2, ..., [num_class - 1].\n",
      "  warnings.warn(label_encoder_deprecation_msg, UserWarning)\n",
      "C:\\Users\\deeks\\anaconda3\\lib\\site-packages\\sklearn\\utils\\validation.py:63: DataConversionWarning: A column-vector y was passed when a 1d array was expected. Please change the shape of y to (n_samples, ), for example using ravel().\n",
      "  return f(*args, **kwargs)\n"
     ]
    },
    {
     "name": "stdout",
     "output_type": "stream",
     "text": [
      "[CV 4/5] END learning_rate=1, max_depth=5, n_estimators=50;, score=0.747 total time=   5.2s\n",
      "[16:35:01] WARNING: C:/Users/Administrator/workspace/xgboost-win64_release_1.4.0/src/learner.cc:1095: Starting in XGBoost 1.3.0, the default evaluation metric used with the objective 'multi:softprob' was changed from 'merror' to 'mlogloss'. Explicitly set eval_metric if you'd like to restore the old behavior.\n"
     ]
    },
    {
     "name": "stderr",
     "output_type": "stream",
     "text": [
      "C:\\Users\\deeks\\anaconda3\\lib\\site-packages\\xgboost\\sklearn.py:1146: UserWarning: The use of label encoder in XGBClassifier is deprecated and will be removed in a future release. To remove this warning, do the following: 1) Pass option use_label_encoder=False when constructing XGBClassifier object; and 2) Encode your labels (y) as integers starting with 0, i.e. 0, 1, 2, ..., [num_class - 1].\n",
      "  warnings.warn(label_encoder_deprecation_msg, UserWarning)\n",
      "C:\\Users\\deeks\\anaconda3\\lib\\site-packages\\sklearn\\utils\\validation.py:63: DataConversionWarning: A column-vector y was passed when a 1d array was expected. Please change the shape of y to (n_samples, ), for example using ravel().\n",
      "  return f(*args, **kwargs)\n"
     ]
    },
    {
     "name": "stdout",
     "output_type": "stream",
     "text": [
      "[CV 5/5] END learning_rate=1, max_depth=5, n_estimators=50;, score=0.749 total time=   5.4s\n",
      "[16:35:06] WARNING: C:/Users/Administrator/workspace/xgboost-win64_release_1.4.0/src/learner.cc:1095: Starting in XGBoost 1.3.0, the default evaluation metric used with the objective 'multi:softprob' was changed from 'merror' to 'mlogloss'. Explicitly set eval_metric if you'd like to restore the old behavior.\n"
     ]
    },
    {
     "name": "stderr",
     "output_type": "stream",
     "text": [
      "C:\\Users\\deeks\\anaconda3\\lib\\site-packages\\xgboost\\sklearn.py:1146: UserWarning: The use of label encoder in XGBClassifier is deprecated and will be removed in a future release. To remove this warning, do the following: 1) Pass option use_label_encoder=False when constructing XGBClassifier object; and 2) Encode your labels (y) as integers starting with 0, i.e. 0, 1, 2, ..., [num_class - 1].\n",
      "  warnings.warn(label_encoder_deprecation_msg, UserWarning)\n",
      "C:\\Users\\deeks\\anaconda3\\lib\\site-packages\\sklearn\\utils\\validation.py:63: DataConversionWarning: A column-vector y was passed when a 1d array was expected. Please change the shape of y to (n_samples, ), for example using ravel().\n",
      "  return f(*args, **kwargs)\n"
     ]
    },
    {
     "name": "stdout",
     "output_type": "stream",
     "text": [
      "[CV 1/5] END learning_rate=0.5, max_depth=3, n_estimators=200;, score=0.747 total time=  12.7s\n",
      "[16:35:19] WARNING: C:/Users/Administrator/workspace/xgboost-win64_release_1.4.0/src/learner.cc:1095: Starting in XGBoost 1.3.0, the default evaluation metric used with the objective 'multi:softprob' was changed from 'merror' to 'mlogloss'. Explicitly set eval_metric if you'd like to restore the old behavior.\n"
     ]
    },
    {
     "name": "stderr",
     "output_type": "stream",
     "text": [
      "C:\\Users\\deeks\\anaconda3\\lib\\site-packages\\xgboost\\sklearn.py:1146: UserWarning: The use of label encoder in XGBClassifier is deprecated and will be removed in a future release. To remove this warning, do the following: 1) Pass option use_label_encoder=False when constructing XGBClassifier object; and 2) Encode your labels (y) as integers starting with 0, i.e. 0, 1, 2, ..., [num_class - 1].\n",
      "  warnings.warn(label_encoder_deprecation_msg, UserWarning)\n",
      "C:\\Users\\deeks\\anaconda3\\lib\\site-packages\\sklearn\\utils\\validation.py:63: DataConversionWarning: A column-vector y was passed when a 1d array was expected. Please change the shape of y to (n_samples, ), for example using ravel().\n",
      "  return f(*args, **kwargs)\n"
     ]
    },
    {
     "name": "stdout",
     "output_type": "stream",
     "text": [
      "[CV 2/5] END learning_rate=0.5, max_depth=3, n_estimators=200;, score=0.751 total time=  11.4s\n",
      "[16:35:30] WARNING: C:/Users/Administrator/workspace/xgboost-win64_release_1.4.0/src/learner.cc:1095: Starting in XGBoost 1.3.0, the default evaluation metric used with the objective 'multi:softprob' was changed from 'merror' to 'mlogloss'. Explicitly set eval_metric if you'd like to restore the old behavior.\n"
     ]
    },
    {
     "name": "stderr",
     "output_type": "stream",
     "text": [
      "C:\\Users\\deeks\\anaconda3\\lib\\site-packages\\xgboost\\sklearn.py:1146: UserWarning: The use of label encoder in XGBClassifier is deprecated and will be removed in a future release. To remove this warning, do the following: 1) Pass option use_label_encoder=False when constructing XGBClassifier object; and 2) Encode your labels (y) as integers starting with 0, i.e. 0, 1, 2, ..., [num_class - 1].\n",
      "  warnings.warn(label_encoder_deprecation_msg, UserWarning)\n",
      "C:\\Users\\deeks\\anaconda3\\lib\\site-packages\\sklearn\\utils\\validation.py:63: DataConversionWarning: A column-vector y was passed when a 1d array was expected. Please change the shape of y to (n_samples, ), for example using ravel().\n",
      "  return f(*args, **kwargs)\n"
     ]
    },
    {
     "name": "stdout",
     "output_type": "stream",
     "text": [
      "[CV 3/5] END learning_rate=0.5, max_depth=3, n_estimators=200;, score=0.755 total time=  12.6s\n",
      "[16:35:43] WARNING: C:/Users/Administrator/workspace/xgboost-win64_release_1.4.0/src/learner.cc:1095: Starting in XGBoost 1.3.0, the default evaluation metric used with the objective 'multi:softprob' was changed from 'merror' to 'mlogloss'. Explicitly set eval_metric if you'd like to restore the old behavior.\n"
     ]
    },
    {
     "name": "stderr",
     "output_type": "stream",
     "text": [
      "C:\\Users\\deeks\\anaconda3\\lib\\site-packages\\xgboost\\sklearn.py:1146: UserWarning: The use of label encoder in XGBClassifier is deprecated and will be removed in a future release. To remove this warning, do the following: 1) Pass option use_label_encoder=False when constructing XGBClassifier object; and 2) Encode your labels (y) as integers starting with 0, i.e. 0, 1, 2, ..., [num_class - 1].\n",
      "  warnings.warn(label_encoder_deprecation_msg, UserWarning)\n",
      "C:\\Users\\deeks\\anaconda3\\lib\\site-packages\\sklearn\\utils\\validation.py:63: DataConversionWarning: A column-vector y was passed when a 1d array was expected. Please change the shape of y to (n_samples, ), for example using ravel().\n",
      "  return f(*args, **kwargs)\n"
     ]
    },
    {
     "name": "stdout",
     "output_type": "stream",
     "text": [
      "[CV 4/5] END learning_rate=0.5, max_depth=3, n_estimators=200;, score=0.746 total time=  13.4s\n",
      "[16:35:57] WARNING: C:/Users/Administrator/workspace/xgboost-win64_release_1.4.0/src/learner.cc:1095: Starting in XGBoost 1.3.0, the default evaluation metric used with the objective 'multi:softprob' was changed from 'merror' to 'mlogloss'. Explicitly set eval_metric if you'd like to restore the old behavior.\n"
     ]
    },
    {
     "name": "stderr",
     "output_type": "stream",
     "text": [
      "C:\\Users\\deeks\\anaconda3\\lib\\site-packages\\xgboost\\sklearn.py:1146: UserWarning: The use of label encoder in XGBClassifier is deprecated and will be removed in a future release. To remove this warning, do the following: 1) Pass option use_label_encoder=False when constructing XGBClassifier object; and 2) Encode your labels (y) as integers starting with 0, i.e. 0, 1, 2, ..., [num_class - 1].\n",
      "  warnings.warn(label_encoder_deprecation_msg, UserWarning)\n",
      "C:\\Users\\deeks\\anaconda3\\lib\\site-packages\\sklearn\\utils\\validation.py:63: DataConversionWarning: A column-vector y was passed when a 1d array was expected. Please change the shape of y to (n_samples, ), for example using ravel().\n",
      "  return f(*args, **kwargs)\n"
     ]
    },
    {
     "name": "stdout",
     "output_type": "stream",
     "text": [
      "[CV 5/5] END learning_rate=0.5, max_depth=3, n_estimators=200;, score=0.754 total time=  13.1s\n"
     ]
    },
    {
     "name": "stderr",
     "output_type": "stream",
     "text": [
      "C:\\Users\\deeks\\anaconda3\\lib\\site-packages\\xgboost\\sklearn.py:1146: UserWarning: The use of label encoder in XGBClassifier is deprecated and will be removed in a future release. To remove this warning, do the following: 1) Pass option use_label_encoder=False when constructing XGBClassifier object; and 2) Encode your labels (y) as integers starting with 0, i.e. 0, 1, 2, ..., [num_class - 1].\n",
      "  warnings.warn(label_encoder_deprecation_msg, UserWarning)\n",
      "C:\\Users\\deeks\\anaconda3\\lib\\site-packages\\sklearn\\utils\\validation.py:63: DataConversionWarning: A column-vector y was passed when a 1d array was expected. Please change the shape of y to (n_samples, ), for example using ravel().\n",
      "  return f(*args, **kwargs)\n"
     ]
    },
    {
     "name": "stdout",
     "output_type": "stream",
     "text": [
      "[16:36:10] WARNING: C:/Users/Administrator/workspace/xgboost-win64_release_1.4.0/src/learner.cc:1095: Starting in XGBoost 1.3.0, the default evaluation metric used with the objective 'multi:softprob' was changed from 'merror' to 'mlogloss'. Explicitly set eval_metric if you'd like to restore the old behavior.\n"
     ]
    },
    {
     "data": {
      "text/plain": [
       "RandomizedSearchCV(estimator=XGBClassifier(base_score=None, booster=None,\n",
       "                                           colsample_bylevel=None,\n",
       "                                           colsample_bynode=None,\n",
       "                                           colsample_bytree=None, gamma=None,\n",
       "                                           gpu_id=None, importance_type='gain',\n",
       "                                           interaction_constraints=None,\n",
       "                                           learning_rate=None,\n",
       "                                           max_delta_step=None, max_depth=None,\n",
       "                                           min_child_weight=None, missing=nan,\n",
       "                                           monotone_constraints=None,\n",
       "                                           n_estimators=100, n_jobs=None,\n",
       "                                           num_parallel_tree=None,\n",
       "                                           random_state=None, reg_alpha=None,\n",
       "                                           reg_lambda=None,\n",
       "                                           scale_pos_weight=None,\n",
       "                                           subsample=None, tree_method=None,\n",
       "                                           validate_parameters=None,\n",
       "                                           verbosity=None),\n",
       "                   param_distributions={'learning_rate': [1, 0.5, 0.1, 0.01],\n",
       "                                        'max_depth': [3, 5, 10, 20],\n",
       "                                        'n_estimators': [10, 50, 100, 200]},\n",
       "                   verbose=3)"
      ]
     },
     "execution_count": 63,
     "metadata": {},
     "output_type": "execute_result"
    }
   ],
   "source": [
    "grid.fit(x_train, y_train)"
   ]
  },
  {
   "cell_type": "code",
   "execution_count": 71,
   "metadata": {},
   "outputs": [
    {
     "name": "stderr",
     "output_type": "stream",
     "text": [
      "C:\\Users\\deeks\\anaconda3\\lib\\site-packages\\xgboost\\sklearn.py:1146: UserWarning: The use of label encoder in XGBClassifier is deprecated and will be removed in a future release. To remove this warning, do the following: 1) Pass option use_label_encoder=False when constructing XGBClassifier object; and 2) Encode your labels (y) as integers starting with 0, i.e. 0, 1, 2, ..., [num_class - 1].\n",
      "  warnings.warn(label_encoder_deprecation_msg, UserWarning)\n",
      "C:\\Users\\deeks\\anaconda3\\lib\\site-packages\\sklearn\\utils\\validation.py:63: DataConversionWarning: A column-vector y was passed when a 1d array was expected. Please change the shape of y to (n_samples, ), for example using ravel().\n",
      "  return f(*args, **kwargs)\n"
     ]
    },
    {
     "name": "stdout",
     "output_type": "stream",
     "text": [
      "[16:45:29] WARNING: C:/Users/Administrator/workspace/xgboost-win64_release_1.4.0/src/learner.cc:1095: Starting in XGBoost 1.3.0, the default evaluation metric used with the objective 'multi:softprob' was changed from 'merror' to 'mlogloss'. Explicitly set eval_metric if you'd like to restore the old behavior.\n"
     ]
    },
    {
     "data": {
      "text/plain": [
       "XGBClassifier(base_score=0.5, booster='gbtree', colsample_bylevel=1,\n",
       "              colsample_bynode=1, colsample_bytree=1, gamma=0, gpu_id=-1,\n",
       "              importance_type='gain', interaction_constraints='',\n",
       "              learning_rate=0.1, max_delta_step=0, max_depth=5,\n",
       "              min_child_weight=1, missing=nan, monotone_constraints='()',\n",
       "              n_estimators=100, n_jobs=8, num_parallel_tree=1,\n",
       "              objective='multi:softprob', random_state=0, reg_alpha=0,\n",
       "              reg_lambda=1, scale_pos_weight=None, subsample=1,\n",
       "              tree_method='exact', validate_parameters=1, verbosity=None)"
      ]
     },
     "execution_count": 71,
     "metadata": {},
     "output_type": "execute_result"
    }
   ],
   "source": [
    "xg = XGBClassifier(n_estimators= 100, max_depth= 5, learning_rate= 0.1)\n",
    "xg.fit(x_train, y_train)"
   ]
  },
  {
   "cell_type": "code",
   "execution_count": 72,
   "metadata": {},
   "outputs": [
    {
     "name": "stdout",
     "output_type": "stream",
     "text": [
      "testing accuracy is :  75.76699553993784\n"
     ]
    }
   ],
   "source": [
    "print(\"testing accuracy is : \", xg.score(x_test, y_test)*100)"
   ]
  },
  {
   "cell_type": "code",
   "execution_count": 73,
   "metadata": {},
   "outputs": [],
   "source": [
    "import pickle\n",
    "file = 'xgboost_model.pkl'\n",
    "pickle.dump(xg, open(file, 'wb'))"
   ]
  },
  {
   "cell_type": "code",
   "execution_count": null,
   "metadata": {},
   "outputs": [],
   "source": []
  }
 ],
 "metadata": {
  "kernelspec": {
   "display_name": "Python 3",
   "language": "python",
   "name": "python3"
  },
  "language_info": {
   "codemirror_mode": {
    "name": "ipython",
    "version": 3
   },
   "file_extension": ".py",
   "mimetype": "text/x-python",
   "name": "python",
   "nbconvert_exporter": "python",
   "pygments_lexer": "ipython3",
   "version": "3.8.5"
  }
 },
 "nbformat": 4,
 "nbformat_minor": 4
}
